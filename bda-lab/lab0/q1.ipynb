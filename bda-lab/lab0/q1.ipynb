{
 "cells": [
  {
   "cell_type": "markdown",
   "metadata": {},
   "source": [
    "# Lab 1 - 22/7"
   ]
  },
  {
   "cell_type": "markdown",
   "metadata": {},
   "source": [
    "## Q1\n",
    "\n",
    "write a python program to read a file and to count number of words in it. display the words in the reverse order of their frequencies."
   ]
  },
  {
   "cell_type": "code",
   "execution_count": 1,
   "metadata": {},
   "outputs": [],
   "source": [
    "def read_file(file_path):\n",
    "    with open(file_path, 'r') as file:\n",
    "        text = file.read()\n",
    "    text = text.replace(\".\", \"\")\n",
    "    text = text.replace(\",\", \"\")\n",
    "    text = text.replace(\"-\", \" \")\n",
    "    return text\n",
    "\n",
    "def count_words(text):\n",
    "    return len(text.split()), text.split()\n",
    "\n",
    "def reverse_freq(text_arr):\n",
    "    words = {}\n",
    "    for word in text_arr:\n",
    "        if word in words:\n",
    "            words[word] += 1\n",
    "        else:\n",
    "            words[word] = 1\n",
    "    words_sorted = \"\"\n",
    "    for word, freq in sorted(words.items(), key = lambda item: item[1], reverse=True):\n",
    "        words_sorted += f\"{word} : {freq}\\n\"\n",
    "    return words_sorted"
   ]
  },
  {
   "cell_type": "code",
   "execution_count": 4,
   "metadata": {},
   "outputs": [
    {
     "name": "stdout",
     "output_type": "stream",
     "text": [
      "a : 6\n",
      "to : 6\n",
      "the : 6\n",
      "write : 3\n",
      "python : 3\n",
      "program : 3\n",
      "and : 3\n",
      "of : 3\n",
      "words : 3\n",
      "in : 3\n",
      "will : 3\n",
      "read : 2\n",
      "file : 2\n",
      "count : 2\n",
      "number : 2\n",
      "it : 2\n",
      "client : 2\n",
      "send : 2\n",
      "publisher : 2\n",
      "display : 1\n",
      "reverse : 1\n",
      "order : 1\n",
      "their : 1\n",
      "frequencies : 1\n",
      "server : 1\n",
      "which : 1\n",
      "that : 1\n",
      "back : 1\n",
      "implement : 1\n",
      "subscriber : 1\n",
      "model : 1\n",
      "where : 1\n",
      "publishes : 1\n",
      "all : 1\n",
      "subscribers : 1\n",
      "get : 1\n",
      "published : 1\n",
      "message : 1\n",
      "\n"
     ]
    }
   ],
   "source": [
    "text = read_file(\"/home/lplab/Documents/220962448_Balaji/lab1/text_for_q1.txt\")\n",
    "num_words, word_arr = count_words(text)\n",
    "print(reverse_freq(word_arr))"
   ]
  },
  {
   "cell_type": "code",
   "execution_count": null,
   "metadata": {},
   "outputs": [],
   "source": []
  }
 ],
 "metadata": {
  "kernelspec": {
   "display_name": "Python 3 (ipykernel)",
   "language": "python",
   "name": "python3"
  },
  "language_info": {
   "codemirror_mode": {
    "name": "ipython",
    "version": 3
   },
   "file_extension": ".py",
   "mimetype": "text/x-python",
   "name": "python",
   "nbconvert_exporter": "python",
   "pygments_lexer": "ipython3",
   "version": "3.7.0"
  }
 },
 "nbformat": 4,
 "nbformat_minor": 2
}
