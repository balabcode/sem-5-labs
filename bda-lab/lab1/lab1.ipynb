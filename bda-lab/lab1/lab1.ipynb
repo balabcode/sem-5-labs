{
 "cells": [
  {
   "cell_type": "code",
   "execution_count": 2,
   "metadata": {},
   "outputs": [],
   "source": [
    "from pyspark import SparkConf, SparkContext\n",
    "from pyspark.sql import SparkSession"
   ]
  },
  {
   "cell_type": "code",
   "execution_count": null,
   "metadata": {},
   "outputs": [],
   "source": []
  },
  {
   "cell_type": "code",
   "execution_count": 3,
   "metadata": {},
   "outputs": [
    {
     "name": "stderr",
     "output_type": "stream",
     "text": [
      "Setting default log level to \"WARN\".\n",
      "To adjust logging level use sc.setLogLevel(newLevel). For SparkR, use setLogLevel(newLevel).\n",
      "24/07/30 14:22:05 WARN NativeCodeLoader: Unable to load native-hadoop library for your platform... using builtin-java classes where applicable\n"
     ]
    },
    {
     "name": "stdout",
     "output_type": "stream",
     "text": [
      "[16, 64, 256, 1024, 4096]\n"
     ]
    }
   ],
   "source": [
    "# Q1: Write a PySpark program to square set of integers.\n",
    "\n",
    "conf = SparkConf().setAppName(\"Q1: Square Set of Integers\").setMaster(\"local\")\n",
    "sc = SparkContext(conf=conf)\n",
    "\n",
    "rdd = sc.parallelize([4, 8, 16, 32, 64])\n",
    "\n",
    "def square(num):\n",
    "    return num**2\n",
    "\n",
    "squares = rdd.map(square)\n",
    "result = squares.collect()\n",
    "\n",
    "print(result)\n",
    "\n",
    "sc.stop()"
   ]
  },
  {
   "cell_type": "code",
   "execution_count": 14,
   "metadata": {},
   "outputs": [
    {
     "name": "stdout",
     "output_type": "stream",
     "text": [
      "1024\n"
     ]
    }
   ],
   "source": [
    "# Q2: Write a PySpark program to find the maximum of given set of numbers.\n",
    "\n",
    "conf = SparkConf().setAppName(\"Q2: Find Max in a Given Set of Integers\").setMaster(\"local\")\n",
    "sc = SparkContext(conf=conf)\n",
    "\n",
    "rdd = sc.parallelize([4, 8, 16, 1024, 32, 128, 64, 512, 2])\n",
    "\n",
    "print(rdd.max())\n",
    "sc.stop()"
   ]
  },
  {
   "cell_type": "code",
   "execution_count": 15,
   "metadata": {},
   "outputs": [
    {
     "name": "stdout",
     "output_type": "stream",
     "text": [
      "198.88888888888889\n"
     ]
    }
   ],
   "source": [
    "# Q3: Write a PySpark program to find average of N numbers.\n",
    "\n",
    "conf = SparkConf().setAppName(\"Q2: Find Avg of a Given Set of Integers\").setMaster(\"local\")\n",
    "sc = SparkContext(conf=conf)\n",
    "\n",
    "rdd = sc.parallelize([4, 8, 16, 1024, 32, 128, 64, 512, 2])\n",
    "\n",
    "print(rdd.mean())\n",
    "sc.stop()"
   ]
  },
  {
   "cell_type": "code",
   "execution_count": 1,
   "metadata": {},
   "outputs": [
    {
     "name": "stderr",
     "output_type": "stream",
     "text": [
      "Setting default log level to \"WARN\".\n",
      "To adjust logging level use sc.setLogLevel(newLevel). For SparkR, use setLogLevel(newLevel).\n",
      "24/08/05 09:05:54 WARN NativeCodeLoader: Unable to load native-hadoop library for your platform... using builtin-java classes where applicable\n"
     ]
    },
    {
     "name": "stdout",
     "output_type": "stream",
     "text": [
      "root\n",
      " |-- Name: string (nullable = true)\n",
      " |-- Age: integer (nullable = true)\n",
      " |-- Location: string (nullable = true)\n",
      "\n",
      "+-----+---+---------+\n",
      "| Name|Age| Location|\n",
      "+-----+---+---------+\n",
      "|Aarav| 32|   Mumbai|\n",
      "| Isha| 27|    Delhi|\n",
      "| Ravi| 45|Bangalore|\n",
      "|Sneha| 29|  Chennai|\n",
      "|Arjun| 34|  Kolkata|\n",
      "+-----+---+---------+\n",
      "\n"
     ]
    }
   ],
   "source": [
    "from pyspark.sql import SparkSession\n",
    "\n",
    "spark = SparkSession.builder.appName('test').getOrCreate()\n",
    "df = spark.read.csv('../assets/data.csv', header='True', inferSchema='True')\n",
    "\n",
    "df.printSchema()\n",
    "df.show()"
   ]
  },
  {
   "cell_type": "code",
   "execution_count": 2,
   "metadata": {},
   "outputs": [
    {
     "name": "stdout",
     "output_type": "stream",
     "text": [
      "+-------+-----------------+\n",
      "|summary|              age|\n",
      "+-------+-----------------+\n",
      "|  count|                5|\n",
      "|   mean|             33.4|\n",
      "| stddev|7.021395872616782|\n",
      "|    min|               27|\n",
      "|    25%|               29|\n",
      "|    50%|               32|\n",
      "|    75%|               34|\n",
      "|    max|               45|\n",
      "+-------+-----------------+\n",
      "\n"
     ]
    }
   ],
   "source": [
    "df.select('age').summary().show()"
   ]
  },
  {
   "cell_type": "code",
   "execution_count": null,
   "metadata": {},
   "outputs": [],
   "source": []
  }
 ],
 "metadata": {
  "kernelspec": {
   "display_name": "Python 3 (ipykernel)",
   "language": "python",
   "name": "python3"
  },
  "language_info": {
   "codemirror_mode": {
    "name": "ipython",
    "version": 3
   },
   "file_extension": ".py",
   "mimetype": "text/x-python",
   "name": "python",
   "nbconvert_exporter": "python",
   "pygments_lexer": "ipython3",
   "version": "3.10.12"
  }
 },
 "nbformat": 4,
 "nbformat_minor": 2
}
