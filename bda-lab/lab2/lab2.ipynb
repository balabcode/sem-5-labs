{
 "cells": [
  {
   "cell_type": "code",
   "execution_count": null,
   "metadata": {},
   "outputs": [],
   "source": [
    "# Week 2: Simple PySpark Programs"
   ]
  },
  {
   "cell_type": "code",
   "execution_count": 7,
   "metadata": {},
   "outputs": [
    {
     "name": "stdout",
     "output_type": "stream",
     "text": [
      "+-----+---+---------+\n",
      "| Name|Age| Location|\n",
      "+-----+---+---------+\n",
      "|Aarav| 32|   Mumbai|\n",
      "| Ravi| 45|Bangalore|\n",
      "|Arjun| 34|  Kolkata|\n",
      "+-----+---+---------+\n",
      "\n",
      "+-----+---+---------+---------------------+\n",
      "| Name|Age| Location|years_till_retirement|\n",
      "+-----+---+---------+---------------------+\n",
      "|Aarav| 32|   Mumbai|                   48|\n",
      "| Ravi| 45|Bangalore|                   35|\n",
      "|Arjun| 34|  Kolkata|                   46|\n",
      "+-----+---+---------+---------------------+\n",
      "\n"
     ]
    }
   ],
   "source": [
    "# Q1. Implement a PySpark script that applies transformations like filter and withColumn on a DataFrame.\n",
    "\n",
    "from pyspark.sql import SparkSession\n",
    "from pyspark.sql.functions import col\n",
    "\n",
    "spark = SparkSession.builder.appName('lab3').getOrCreate()\n",
    "\n",
    "df = spark.read.csv('../assets/data.csv', header='True', inferSchema='True')\n",
    "\n",
    "filter_df = df.filter(col(\"age\") > 30)\n",
    "filter_df.show()\n",
    "with_column_df = filter_df.withColumn('years_till_retirement', 80 - col('age'))\n",
    "with_column_df.show()"
   ]
  },
  {
   "cell_type": "code",
   "execution_count": 13,
   "metadata": {},
   "outputs": [
    {
     "name": "stdout",
     "output_type": "stream",
     "text": [
      "5\n",
      "+-----+---+---------+\n",
      "| Name|Age| Location|\n",
      "+-----+---+---------+\n",
      "|Aarav| 32|   Mumbai|\n",
      "| Isha| 27|    Delhi|\n",
      "| Ravi| 45|Bangalore|\n",
      "|Sneha| 29|  Chennai|\n",
      "|Arjun| 34|  Kolkata|\n",
      "+-----+---+---------+\n",
      "\n"
     ]
    }
   ],
   "source": [
    "# Q2. Write a PySpark script that performs actions like count and show on a DataFrame.\n",
    "\n",
    "from pyspark.sql import SparkSession\n",
    "from pyspark.sql.functions import col\n",
    "\n",
    "spark = SparkSession.builder.appName('lab3').getOrCreate()\n",
    "\n",
    "df = spark.read.csv('../assets/data.csv', header='True', inferSchema='True')\n",
    "\n",
    "print(df.distinct().count())\n",
    "\n",
    "df.show()"
   ]
  },
  {
   "cell_type": "code",
   "execution_count": 15,
   "metadata": {},
   "outputs": [
    {
     "name": "stdout",
     "output_type": "stream",
     "text": [
      "+--------+\n",
      "|sum(age)|\n",
      "+--------+\n",
      "|     167|\n",
      "+--------+\n",
      "\n",
      "+--------+\n",
      "|avg(age)|\n",
      "+--------+\n",
      "|    33.4|\n",
      "+--------+\n",
      "\n"
     ]
    }
   ],
   "source": [
    "# Q3. Demonstrate how to perform basic aggregations (e.g., sum, average) on a PySpark DataFrame.\n",
    "\n",
    "from pyspark.sql import SparkSession\n",
    "from pyspark.sql.functions import sum as sum_, avg\n",
    "\n",
    "spark = SparkSession.builder.appName('lab3').getOrCreate()\n",
    "\n",
    "df = spark.read.csv('../assets/data.csv', header='True', inferSchema='True')\n",
    "\n",
    "# df.select('age').sum()\n",
    "df.agg(sum_(\"age\")).show()\n",
    "df.agg(avg(\"age\")).show()"
   ]
  },
  {
   "cell_type": "code",
   "execution_count": 20,
   "metadata": {},
   "outputs": [
    {
     "name": "stdout",
     "output_type": "stream",
     "text": [
      "+-----+---+---------+\n",
      "| Name|Age| Location|\n",
      "+-----+---+---------+\n",
      "|Aarav| 32|   Mumbai|\n",
      "| Ravi| 45|Bangalore|\n",
      "|Arjun| 34|  Kolkata|\n",
      "+-----+---+---------+\n",
      "\n",
      "+-----+---+---------+---------------------+\n",
      "| Name|Age| Location|years_till_retirement|\n",
      "+-----+---+---------+---------------------+\n",
      "|Aarav| 32|   Mumbai|                   48|\n",
      "| Ravi| 45|Bangalore|                   35|\n",
      "|Arjun| 34|  Kolkata|                   46|\n",
      "+-----+---+---------+---------------------+\n",
      "\n"
     ]
    }
   ],
   "source": [
    "# Q4. Show how to write a PySpark DataFrame to a CSV file.\n",
    "\n",
    "# Q1 code:\n",
    "from pyspark.sql import SparkSession\n",
    "from pyspark.sql.functions import col\n",
    "\n",
    "spark = SparkSession.builder.appName('lab3').getOrCreate()\n",
    "\n",
    "df = spark.read.csv('../assets/data.csv', header='True', inferSchema='True')\n",
    "\n",
    "filter_df = df.filter(col(\"age\") > 30)\n",
    "filter_df.show()\n",
    "with_column_df = filter_df.withColumn('years_till_retirement', 80 - col('age'))\n",
    "with_column_df.show()\n",
    "\n",
    "\n",
    "# Writing the Q1 df to a csv:\n",
    "df.write.mode('overwrite').option('header', 'true').csv('../assets/modified')"
   ]
  },
  {
   "cell_type": "code",
   "execution_count": 32,
   "metadata": {},
   "outputs": [
    {
     "name": "stdout",
     "output_type": "stream",
     "text": [
      "+------------+-----+\n",
      "|        word|count|\n",
      "+------------+-----+\n",
      "|         the|    6|\n",
      "|           a|    6|\n",
      "|          to|    6|\n",
      "|        will|    3|\n",
      "|       words|    3|\n",
      "|     program|    3|\n",
      "|          in|    3|\n",
      "|       write|    3|\n",
      "|         and|    3|\n",
      "|          of|    3|\n",
      "|      python|    3|\n",
      "|        read|    2|\n",
      "|       count|    2|\n",
      "|        file|    2|\n",
      "|        send|    2|\n",
      "|      number|    2|\n",
      "|frequencies.|    1|\n",
      "|        back|    1|\n",
      "|       their|    1|\n",
      "|  publishes,|    1|\n",
      "+------------+-----+\n",
      "only showing top 20 rows\n",
      "\n"
     ]
    }
   ],
   "source": [
    "# Q5. Implement wordcount program in PySpark.\n",
    "\n",
    "from pyspark.sql import SparkSession\n",
    "from pyspark.sql.functions import split, explode, col\n",
    "\n",
    "spark = SparkSession.builder.appName('lab3').getOrCreate()\n",
    "\n",
    "df = spark.read.text('../assets/text.txt')\n",
    "df = df.withColumn(\"word\", explode(split(df[\"value\"], \" \"))).select(\"word\")\n",
    "\n",
    "df_word_count = df.groupBy(\"word\").count().orderBy(col('count').desc())\n",
    "\n",
    "df_word_count.show()"
   ]
  },
  {
   "cell_type": "code",
   "execution_count": null,
   "metadata": {},
   "outputs": [],
   "source": []
  }
 ],
 "metadata": {
  "kernelspec": {
   "display_name": "Python 3",
   "language": "python",
   "name": "python3"
  },
  "language_info": {
   "codemirror_mode": {
    "name": "ipython",
    "version": 3
   },
   "file_extension": ".py",
   "mimetype": "text/x-python",
   "name": "python",
   "nbconvert_exporter": "python",
   "pygments_lexer": "ipython3",
   "version": "3.10.12"
  }
 },
 "nbformat": 4,
 "nbformat_minor": 2
}
