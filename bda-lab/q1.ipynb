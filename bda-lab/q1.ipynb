{
 "cells": [
  {
   "cell_type": "code",
   "execution_count": 18,
   "metadata": {},
   "outputs": [],
   "source": [
    "from pyspark import SparkConf, SparkContext\n",
    "from pyspark.sql import SparkSession"
   ]
  },
  {
   "cell_type": "code",
   "execution_count": null,
   "metadata": {},
   "outputs": [],
   "source": []
  },
  {
   "cell_type": "code",
   "execution_count": 19,
   "metadata": {},
   "outputs": [
    {
     "name": "stdout",
     "output_type": "stream",
     "text": [
      "[16, 64, 256, 1024, 4096]\n"
     ]
    }
   ],
   "source": [
    "# Q1: Write a PySpark program to square set of integers.\n",
    "\n",
    "conf = SparkConf().setAppName(\"Q1: Square Set of Integers\").setMaster(\"local\")\n",
    "sc = SparkContext(conf=conf)\n",
    "\n",
    "rdd = sc.parallelize([4, 8, 16, 32, 64])\n",
    "\n",
    "def square(num):\n",
    "    return num**2\n",
    "\n",
    "squares = rdd.map(square)\n",
    "result = squares.collect()\n",
    "\n",
    "print(result)\n",
    "\n",
    "sc.stop()"
   ]
  },
  {
   "cell_type": "code",
   "execution_count": 14,
   "metadata": {},
   "outputs": [
    {
     "name": "stdout",
     "output_type": "stream",
     "text": [
      "1024\n"
     ]
    }
   ],
   "source": [
    "# Q2: Write a PySpark program to find the maximum of given set of numbers.\n",
    "\n",
    "conf = SparkConf().setAppName(\"Q2: Find Max in a Given Set of Integers\").setMaster(\"local\")\n",
    "sc = SparkContext(conf=conf)\n",
    "\n",
    "rdd = sc.parallelize([4, 8, 16, 1024, 32, 128, 64, 512, 2])\n",
    "\n",
    "print(rdd.max())\n",
    "sc.stop()"
   ]
  },
  {
   "cell_type": "code",
   "execution_count": 15,
   "metadata": {},
   "outputs": [
    {
     "name": "stdout",
     "output_type": "stream",
     "text": [
      "198.88888888888889\n"
     ]
    }
   ],
   "source": [
    "# Q3: Write a PySpark program to find average of N numbers.\n",
    "\n",
    "conf = SparkConf().setAppName(\"Q2: Find Avg of a Given Set of Integers\").setMaster(\"local\")\n",
    "sc = SparkContext(conf=conf)\n",
    "\n",
    "rdd = sc.parallelize([4, 8, 16, 1024, 32, 128, 64, 512, 2])\n",
    "\n",
    "print(rdd.mean())\n",
    "sc.stop()"
   ]
  },
  {
   "cell_type": "code",
   "execution_count": null,
   "metadata": {},
   "outputs": [],
   "source": []
  }
 ],
 "metadata": {
  "kernelspec": {
   "display_name": "Python 3",
   "language": "python",
   "name": "python3"
  },
  "language_info": {
   "codemirror_mode": {
    "name": "ipython",
    "version": 3
   },
   "file_extension": ".py",
   "mimetype": "text/x-python",
   "name": "python",
   "nbconvert_exporter": "python",
   "pygments_lexer": "ipython3",
   "version": "3.10.12"
  }
 },
 "nbformat": 4,
 "nbformat_minor": 2
}
