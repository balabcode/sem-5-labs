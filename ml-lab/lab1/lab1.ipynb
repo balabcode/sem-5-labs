{
 "cells": [
  {
   "cell_type": "code",
   "execution_count": 1,
   "id": "684bee5f",
   "metadata": {},
   "outputs": [],
   "source": [
    "import numpy as np"
   ]
  },
  {
   "cell_type": "code",
   "execution_count": 2,
   "id": "59950150",
   "metadata": {},
   "outputs": [],
   "source": [
    "# Q1: Convert a 1-D array into a 2-D array with 3 rows."
   ]
  },
  {
   "cell_type": "code",
   "execution_count": 3,
   "id": "4c52cf94",
   "metadata": {},
   "outputs": [],
   "source": [
    "a1 = np.array([0,1,2,3,4,5,6,7,8])\n",
    "a1 = a1.reshape(3,-1)"
   ]
  },
  {
   "cell_type": "code",
   "execution_count": 4,
   "id": "2faf5fb7",
   "metadata": {},
   "outputs": [
    {
     "data": {
      "text/plain": [
       "array([[0, 1, 2],\n",
       "       [3, 4, 5],\n",
       "       [6, 7, 8]])"
      ]
     },
     "execution_count": 4,
     "metadata": {},
     "output_type": "execute_result"
    }
   ],
   "source": [
    "a1"
   ]
  },
  {
   "cell_type": "code",
   "execution_count": 5,
   "id": "34bad2b0",
   "metadata": {},
   "outputs": [],
   "source": [
    "# Q2: Replace all odd numbers in the given array with -1"
   ]
  },
  {
   "cell_type": "code",
   "execution_count": 6,
   "id": "1a72299d",
   "metadata": {},
   "outputs": [],
   "source": [
    "a2 = np.array([0,1,2,3,4,5,6,7,8,9])\n",
    "for i in range(len(a2)):\n",
    "    if a2[i] % 2 == 1:\n",
    "        a2[i] = -1"
   ]
  },
  {
   "cell_type": "code",
   "execution_count": 7,
   "id": "4a7ffc79",
   "metadata": {},
   "outputs": [],
   "source": [
    "# a2[a2%2 == 1] = -1\n",
    "# This is another way to do that, that's mad lol"
   ]
  },
  {
   "cell_type": "code",
   "execution_count": 8,
   "id": "a573fc0f",
   "metadata": {},
   "outputs": [
    {
     "data": {
      "text/plain": [
       "array([ 0, -1,  2, -1,  4, -1,  6, -1,  8, -1])"
      ]
     },
     "execution_count": 8,
     "metadata": {},
     "output_type": "execute_result"
    }
   ],
   "source": [
    "a2"
   ]
  },
  {
   "cell_type": "code",
   "execution_count": 9,
   "id": "00796c30",
   "metadata": {},
   "outputs": [],
   "source": [
    "# Q3: Find the positions of: elements in x where its value is more than its corresponding element in y, and elements in x where its value is equals to its corresponding element in y."
   ]
  },
  {
   "cell_type": "code",
   "execution_count": 10,
   "id": "fb3a7377",
   "metadata": {},
   "outputs": [
    {
     "name": "stdout",
     "output_type": "stream",
     "text": [
      "(array([1, 2, 4, 5, 6, 7, 8, 9]),) and (array([0]),)\n"
     ]
    }
   ],
   "source": [
    "x = np.array([21, 64, 86, 22, 74, 55, 81, 79, 90, 89])\n",
    "y = np.array([21, 7, 3, 45, 10, 29, 55, 4, 37, 18])\n",
    "\n",
    "print(f\"{np.where(x > y)} and {np.where(x == y)}\")"
   ]
  },
  {
   "cell_type": "code",
   "execution_count": 11,
   "id": "221b371f",
   "metadata": {},
   "outputs": [],
   "source": [
    "# Q4: Extract the first four columns of this 2-D array."
   ]
  },
  {
   "cell_type": "code",
   "execution_count": 12,
   "id": "4a49e558",
   "metadata": {},
   "outputs": [],
   "source": [
    "a4 = np.arange(100).reshape(5,-1)"
   ]
  },
  {
   "cell_type": "code",
   "execution_count": 13,
   "id": "68352e81",
   "metadata": {
    "scrolled": true
   },
   "outputs": [
    {
     "data": {
      "text/plain": [
       "array([[ 0,  1,  2,  3],\n",
       "       [20, 21, 22, 23],\n",
       "       [40, 41, 42, 43],\n",
       "       [60, 61, 62, 63],\n",
       "       [80, 81, 82, 83]])"
      ]
     },
     "execution_count": 13,
     "metadata": {},
     "output_type": "execute_result"
    }
   ],
   "source": [
    "a4[:, :4]"
   ]
  },
  {
   "cell_type": "code",
   "execution_count": 14,
   "id": "18d04f5b",
   "metadata": {},
   "outputs": [],
   "source": [
    "# Additional Questions"
   ]
  },
  {
   "cell_type": "code",
   "execution_count": 15,
   "id": "3c2aaa2f",
   "metadata": {},
   "outputs": [
    {
     "name": "stdout",
     "output_type": "stream",
     "text": [
      "[36 38 37 34 38 33 33 35 37 39]\n"
     ]
    }
   ],
   "source": [
    "# Q1: Generate a 1-D array of 10 random integers. Each integer should be a number between 30 and 40 (inclusive).\n",
    "aa1 = np.random.randint(30,41,10)\n",
    "print(aa1)"
   ]
  },
  {
   "cell_type": "code",
   "execution_count": 16,
   "id": "51994a8c",
   "metadata": {},
   "outputs": [
    {
     "name": "stdout",
     "output_type": "stream",
     "text": [
      "C:\n",
      " [[ 8 10 13]\n",
      " [ 8 10 12]\n",
      " [ 8 10 13]]\n",
      "\n",
      "E:\n",
      " [[-6 -6 -7]\n",
      " [ 0  0  0]\n",
      " [ 6  6  7]]\n",
      "\n",
      "Sum(A):\n",
      " 46\n",
      "\n",
      "Colsum(B):\n",
      " [12 15 19]\n",
      "\n",
      "Rowsum(C):\n",
      " [31 30 31]\n",
      "\n",
      "Dot(A, B):\n",
      " [[ 18  24  31]\n",
      " [ 54  69  88]\n",
      " [ 91 116 148]]\n",
      "\n",
      "Sort(C):\n",
      " [[ 8  8  8]\n",
      " [10 10 10]\n",
      " [12 13 13]]\n",
      "\n",
      "Transpose(E):\n",
      " [[ 8 10 12]\n",
      " [ 8 10 13]\n",
      " [ 8 10 13]]\n"
     ]
    }
   ],
   "source": [
    "\"\"\"Q2: Consider the following matrices :\n",
    "A= ((1, 2, 3), (4, 5, 6), (7, 8, 10)) and B = ((7, 8, 10) ,(4, 5, 6), (1, 2, 3))\n",
    "Write a python program to perform the following using Numeric Python (numpy).\n",
    "i) Add and Subtract of the Matrix A and B, print the resultant matrix C for add and E for subtract.\n",
    "ii) Compute the sum of all elements of Matrix A, sum of each column of Matrix B and sum of each row of Matrix C\n",
    "iii) Product of two matrices A and B, and print the resultant matrix D\n",
    "iv) Sort the elements of resultant matrix C and print the resultant Matrix E.\n",
    "v) Transpose the Matrix E and print the result\"\"\"\n",
    "\n",
    "A = np.array(((1, 2, 3), (4, 5, 6), (7, 8, 10)))\n",
    "B = np.array(((7, 8, 10) ,(4, 5, 6), (1, 2, 3)))\n",
    "\n",
    "C = A + B\n",
    "E = A - B\n",
    "print(\"C:\\n\", C)\n",
    "print(\"\\nE:\\n\", E)\n",
    "\n",
    "print(\"\\nSum(A):\\n\", np.sum(A))\n",
    "print(\"\\nColsum(B):\\n\", np.sum(B, axis=0))\n",
    "print(\"\\nRowsum(C):\\n\", np.sum(C, axis=1))\n",
    "\n",
    "D = np.dot(A, B)\n",
    "print(\"\\nDot(A, B):\\n\", D)\n",
    "\n",
    "E = np.sort(C,axis=None).reshape((3,3))\n",
    "print(\"\\nSort(C):\\n\", E)\n",
    "\n",
    "print(\"\\nTranspose(E):\\n\", E.T)"
   ]
  }
 ],
 "metadata": {
  "kernelspec": {
   "display_name": "Python 3 (ipykernel)",
   "language": "python",
   "name": "python3"
  },
  "language_info": {
   "codemirror_mode": {
    "name": "ipython",
    "version": 3
   },
   "file_extension": ".py",
   "mimetype": "text/x-python",
   "name": "python",
   "nbconvert_exporter": "python",
   "pygments_lexer": "ipython3",
   "version": "3.12.3"
  }
 },
 "nbformat": 4,
 "nbformat_minor": 5
}
