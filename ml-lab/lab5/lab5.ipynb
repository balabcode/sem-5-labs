{
 "cells": [
  {
   "cell_type": "code",
   "execution_count": 1,
   "id": "05b95ab5",
   "metadata": {},
   "outputs": [],
   "source": [
    "# Question 1:\n",
    "# Let’s say we have a fictional dataset of pairs of variables, a mother and her daughter’s heights:\n",
    "# height of mother(x)/daughter (y) pairs\n",
    "# Create a CSV file for the above training data and write a Python function program to find the fitted linear\n",
    "# regression with gradient descent technique. Compare the coefficients obtained from the sklearn model with\n",
    "# your program. Compute the error, MSE and RMSE. Plot the graph Daughter height (Y-axis) vs Mother height\n",
    "# (X-axis) with blue colour. Also, plot the line of best fit with red colour. Predict her daughter’s height with\n",
    "# given a new mother height as 63. Plot the graph of error in y-axis and iteration in x-axis with 4 epochs (6x4=24\n",
    "# iterations)."
   ]
  },
  {
   "cell_type": "code",
   "execution_count": 2,
   "id": "37c2c585",
   "metadata": {},
   "outputs": [],
   "source": [
    "import pandas as pd\n",
    "import numpy as np\n",
    "import matplotlib.pyplot as plt"
   ]
  },
  {
   "cell_type": "code",
   "execution_count": 3,
   "id": "64c8d5e7",
   "metadata": {},
   "outputs": [
    {
     "data": {
      "text/html": [
       "<div>\n",
       "<style scoped>\n",
       "    .dataframe tbody tr th:only-of-type {\n",
       "        vertical-align: middle;\n",
       "    }\n",
       "\n",
       "    .dataframe tbody tr th {\n",
       "        vertical-align: top;\n",
       "    }\n",
       "\n",
       "    .dataframe thead th {\n",
       "        text-align: right;\n",
       "    }\n",
       "</style>\n",
       "<table border=\"1\" class=\"dataframe\">\n",
       "  <thead>\n",
       "    <tr style=\"text-align: right;\">\n",
       "      <th></th>\n",
       "      <th>mother_height</th>\n",
       "      <th>daughter_height</th>\n",
       "    </tr>\n",
       "  </thead>\n",
       "  <tbody>\n",
       "    <tr>\n",
       "      <th>0</th>\n",
       "      <td>58</td>\n",
       "      <td>60</td>\n",
       "    </tr>\n",
       "    <tr>\n",
       "      <th>1</th>\n",
       "      <td>62</td>\n",
       "      <td>60</td>\n",
       "    </tr>\n",
       "    <tr>\n",
       "      <th>2</th>\n",
       "      <td>60</td>\n",
       "      <td>58</td>\n",
       "    </tr>\n",
       "    <tr>\n",
       "      <th>3</th>\n",
       "      <td>64</td>\n",
       "      <td>60</td>\n",
       "    </tr>\n",
       "    <tr>\n",
       "      <th>4</th>\n",
       "      <td>67</td>\n",
       "      <td>70</td>\n",
       "    </tr>\n",
       "    <tr>\n",
       "      <th>5</th>\n",
       "      <td>70</td>\n",
       "      <td>72</td>\n",
       "    </tr>\n",
       "  </tbody>\n",
       "</table>\n",
       "</div>"
      ],
      "text/plain": [
       "   mother_height  daughter_height\n",
       "0             58               60\n",
       "1             62               60\n",
       "2             60               58\n",
       "3             64               60\n",
       "4             67               70\n",
       "5             70               72"
      ]
     },
     "execution_count": 3,
     "metadata": {},
     "output_type": "execute_result"
    }
   ],
   "source": [
    "df = pd.read_csv('q1.csv')\n",
    "df"
   ]
  },
  {
   "cell_type": "code",
   "execution_count": 4,
   "id": "8b39b12a",
   "metadata": {},
   "outputs": [],
   "source": [
    "X = df['mother_height']\n",
    "y = df['daughter_height']"
   ]
  },
  {
   "cell_type": "code",
   "execution_count": 5,
   "id": "14225ca3",
   "metadata": {},
   "outputs": [],
   "source": [
    "# np.random.seed(42)\n",
    "\n",
    "def gradient_descent(X, y, alpha, iters):\n",
    "    b0 = np.random.rand() * 0.01\n",
    "    b1 = np.random.rand() * 0.01\n",
    "    costs = []\n",
    "    \n",
    "    for i in range(iters):\n",
    "        for j in range(len(X)):\n",
    "            y_pred = b1*X[j] + b0\n",
    "            costs.append(np.sqrt(np.mean((y_pred - y) ** 2)))\n",
    "            error = y_pred - y[j]\n",
    "            b0 = b0 - alpha*error\n",
    "            b1 = b1 - alpha*error*X[j]\n",
    "            \n",
    "    y_pred = b1*X + b0\n",
    "    df['predictions'] = y_pred\n",
    "    \n",
    "    error = np.mean(abs(y_pred - y))\n",
    "    mse = np.mean((y_pred - y) ** 2)\n",
    "    rmse = np.sqrt(np.mean((y_pred - y) ** 2))\n",
    "    print(f\"Error: {error}\")\n",
    "    print(f\"MSE: {mse}\")\n",
    "    print(f\"RMSE: {rmse}\")\n",
    "    \n",
    "    return b0, b1, y_pred, costs"
   ]
  },
  {
   "cell_type": "code",
   "execution_count": 6,
   "id": "24a22f32",
   "metadata": {},
   "outputs": [
    {
     "name": "stdout",
     "output_type": "stream",
     "text": [
      "Error: 2.4776916070472375\n",
      "MSE: 7.986089784634314\n",
      "RMSE: 2.8259670529987275\n"
     ]
    }
   ],
   "source": [
    "b0, b1, y_pred, costs = gradient_descent(X, y, 0.0001, 4)"
   ]
  },
  {
   "cell_type": "code",
   "execution_count": 7,
   "id": "3b7bc687",
   "metadata": {},
   "outputs": [
    {
     "data": {
      "text/html": [
       "<div>\n",
       "<style scoped>\n",
       "    .dataframe tbody tr th:only-of-type {\n",
       "        vertical-align: middle;\n",
       "    }\n",
       "\n",
       "    .dataframe tbody tr th {\n",
       "        vertical-align: top;\n",
       "    }\n",
       "\n",
       "    .dataframe thead th {\n",
       "        text-align: right;\n",
       "    }\n",
       "</style>\n",
       "<table border=\"1\" class=\"dataframe\">\n",
       "  <thead>\n",
       "    <tr style=\"text-align: right;\">\n",
       "      <th></th>\n",
       "      <th>mother_height</th>\n",
       "      <th>daughter_height</th>\n",
       "      <th>predictions</th>\n",
       "    </tr>\n",
       "  </thead>\n",
       "  <tbody>\n",
       "    <tr>\n",
       "      <th>0</th>\n",
       "      <td>58</td>\n",
       "      <td>60</td>\n",
       "      <td>58.882241</td>\n",
       "    </tr>\n",
       "    <tr>\n",
       "      <th>1</th>\n",
       "      <td>62</td>\n",
       "      <td>60</td>\n",
       "      <td>62.941730</td>\n",
       "    </tr>\n",
       "    <tr>\n",
       "      <th>2</th>\n",
       "      <td>60</td>\n",
       "      <td>58</td>\n",
       "      <td>60.911985</td>\n",
       "    </tr>\n",
       "    <tr>\n",
       "      <th>3</th>\n",
       "      <td>64</td>\n",
       "      <td>60</td>\n",
       "      <td>64.971474</td>\n",
       "    </tr>\n",
       "    <tr>\n",
       "      <th>4</th>\n",
       "      <td>67</td>\n",
       "      <td>70</td>\n",
       "      <td>68.016091</td>\n",
       "    </tr>\n",
       "    <tr>\n",
       "      <th>5</th>\n",
       "      <td>70</td>\n",
       "      <td>72</td>\n",
       "      <td>71.060708</td>\n",
       "    </tr>\n",
       "  </tbody>\n",
       "</table>\n",
       "</div>"
      ],
      "text/plain": [
       "   mother_height  daughter_height  predictions\n",
       "0             58               60    58.882241\n",
       "1             62               60    62.941730\n",
       "2             60               58    60.911985\n",
       "3             64               60    64.971474\n",
       "4             67               70    68.016091\n",
       "5             70               72    71.060708"
      ]
     },
     "execution_count": 7,
     "metadata": {},
     "output_type": "execute_result"
    }
   ],
   "source": [
    "df"
   ]
  },
  {
   "cell_type": "code",
   "execution_count": 8,
   "id": "93d1a48c",
   "metadata": {},
   "outputs": [
    {
     "name": "stdout",
     "output_type": "stream",
     "text": [
      "Error: 2.5007790660930724\n",
      "MSE: 6.831417595841956\n",
      "RMSE: 2.613698068989981\n"
     ]
    },
    {
     "name": "stderr",
     "output_type": "stream",
     "text": [
      "/usr/lib/python3/dist-packages/sklearn/linear_model/_stochastic_gradient.py:1575: ConvergenceWarning: Maximum number of iteration reached before convergence. Consider increasing max_iter to improve the fit.\n",
      "  warnings.warn(\n"
     ]
    }
   ],
   "source": [
    "# comparing sklearn model\n",
    "from sklearn.linear_model import SGDRegressor\n",
    "\n",
    "X = df[['mother_height']].values\n",
    "y = df['daughter_height'].values\n",
    "\n",
    "sgd_regressor = SGDRegressor(max_iter=4, tol=1e-3, eta0=0.0001)\n",
    "sgd_regressor.fit(X, y)\n",
    "\n",
    "sk_preds = sgd_regressor.predict(X)\n",
    "df['sk_predictions'] = sk_preds\n",
    "\n",
    "error = np.mean(abs(sk_preds - y))\n",
    "mse = np.mean((sk_preds - y) ** 2)\n",
    "rmse = np.sqrt(np.mean((sk_preds - y) ** 2))\n",
    "print(f\"Error: {error}\")\n",
    "print(f\"MSE: {mse}\")\n",
    "print(f\"RMSE: {rmse}\")"
   ]
  },
  {
   "cell_type": "code",
   "execution_count": 9,
   "id": "8f5a0863",
   "metadata": {},
   "outputs": [
    {
     "data": {
      "text/html": [
       "<div>\n",
       "<style scoped>\n",
       "    .dataframe tbody tr th:only-of-type {\n",
       "        vertical-align: middle;\n",
       "    }\n",
       "\n",
       "    .dataframe tbody tr th {\n",
       "        vertical-align: top;\n",
       "    }\n",
       "\n",
       "    .dataframe thead th {\n",
       "        text-align: right;\n",
       "    }\n",
       "</style>\n",
       "<table border=\"1\" class=\"dataframe\">\n",
       "  <thead>\n",
       "    <tr style=\"text-align: right;\">\n",
       "      <th></th>\n",
       "      <th>mother_height</th>\n",
       "      <th>daughter_height</th>\n",
       "      <th>predictions</th>\n",
       "      <th>sk_predictions</th>\n",
       "    </tr>\n",
       "  </thead>\n",
       "  <tbody>\n",
       "    <tr>\n",
       "      <th>0</th>\n",
       "      <td>58</td>\n",
       "      <td>60</td>\n",
       "      <td>58.882241</td>\n",
       "      <td>57.985550</td>\n",
       "    </tr>\n",
       "    <tr>\n",
       "      <th>1</th>\n",
       "      <td>62</td>\n",
       "      <td>60</td>\n",
       "      <td>62.941730</td>\n",
       "      <td>61.983473</td>\n",
       "    </tr>\n",
       "    <tr>\n",
       "      <th>2</th>\n",
       "      <td>60</td>\n",
       "      <td>58</td>\n",
       "      <td>60.911985</td>\n",
       "      <td>59.984511</td>\n",
       "    </tr>\n",
       "    <tr>\n",
       "      <th>3</th>\n",
       "      <td>64</td>\n",
       "      <td>60</td>\n",
       "      <td>64.971474</td>\n",
       "      <td>63.982434</td>\n",
       "    </tr>\n",
       "    <tr>\n",
       "      <th>4</th>\n",
       "      <td>67</td>\n",
       "      <td>70</td>\n",
       "      <td>68.016091</td>\n",
       "      <td>66.980876</td>\n",
       "    </tr>\n",
       "    <tr>\n",
       "      <th>5</th>\n",
       "      <td>70</td>\n",
       "      <td>72</td>\n",
       "      <td>71.060708</td>\n",
       "      <td>69.979318</td>\n",
       "    </tr>\n",
       "  </tbody>\n",
       "</table>\n",
       "</div>"
      ],
      "text/plain": [
       "   mother_height  daughter_height  predictions  sk_predictions\n",
       "0             58               60    58.882241       57.985550\n",
       "1             62               60    62.941730       61.983473\n",
       "2             60               58    60.911985       59.984511\n",
       "3             64               60    64.971474       63.982434\n",
       "4             67               70    68.016091       66.980876\n",
       "5             70               72    71.060708       69.979318"
      ]
     },
     "execution_count": 9,
     "metadata": {},
     "output_type": "execute_result"
    }
   ],
   "source": [
    "df"
   ]
  },
  {
   "cell_type": "code",
   "execution_count": 10,
   "id": "9710753e",
   "metadata": {},
   "outputs": [
    {
     "data": {
      "text/plain": [
       "[<matplotlib.lines.Line2D at 0x7fec39d82de0>]"
      ]
     },
     "execution_count": 10,
     "metadata": {},
     "output_type": "execute_result"
    },
    {
     "data": {
      "image/png": "[encoded data removed]",
      "text/plain": [
       "<Figure size 640x480 with 1 Axes>"
      ]
     },
     "metadata": {},
     "output_type": "display_data"
    }
   ],
   "source": [
    "plt.scatter(X, y)\n",
    "plt.plot(X, y_pred, color='red')\n",
    "plt.plot(X, sk_preds)"
   ]
  },
  {
   "cell_type": "code",
   "execution_count": 11,
   "id": "72c7dab0",
   "metadata": {},
   "outputs": [
    {
     "data": {
      "text/plain": [
       "63.956602018651985"
      ]
     },
     "execution_count": 11,
     "metadata": {},
     "output_type": "execute_result"
    }
   ],
   "source": [
    "d_height = b1*63 + b0\n",
    "d_height"
   ]
  },
  {
   "cell_type": "code",
   "execution_count": 12,
   "id": "214b3b6e",
   "metadata": {},
   "outputs": [
    {
     "data": {
      "text/plain": [
       "[<matplotlib.lines.Line2D at 0x7fec39abbfb0>]"
      ]
     },
     "execution_count": 12,
     "metadata": {},
     "output_type": "execute_result"
    },
    {
     "data": {
      "image/png": "[encoded data removed]",
      "text/plain": [
       "<Figure size 640x480 with 1 Axes>"
      ]
     },
     "metadata": {},
     "output_type": "display_data"
    }
   ],
   "source": [
    "plt.plot(range(24), costs)"
   ]
  },
  {
   "cell_type": "code",
   "execution_count": 13,
   "id": "1d24ab5b",
   "metadata": {},
   "outputs": [],
   "source": [
    "# Questions 2\n",
    "# Create a CSV file for the above training data and write a Python function program to find the fitted logistic\n",
    "# regression with gradient descent technique. Compare the coefficients obtained from the sklearn model with\n",
    "# your program. Compute the predicted y and assign the class label (prediction = 0 IF p(fail) < 0.5 and prediction\n",
    "# = 1 IF p(pass) >= 0.5) and compute the accuracy. Find the error for each iteration and predict the probability\n",
    "# that a student will pass the exam if they study for a) 3.5 hours b) 7.5 hours. Plot the graph of error in y-axis\n",
    "# and iteration in x-axis with 3 epochs (8x3=24 iterations)."
   ]
  },
  {
   "cell_type": "code",
   "execution_count": 177,
   "id": "7bdd4996",
   "metadata": {},
   "outputs": [
    {
     "data": {
      "text/html": [
       "<div>\n",
       "<style scoped>\n",
       "    .dataframe tbody tr th:only-of-type {\n",
       "        vertical-align: middle;\n",
       "    }\n",
       "\n",
       "    .dataframe tbody tr th {\n",
       "        vertical-align: top;\n",
       "    }\n",
       "\n",
       "    .dataframe thead th {\n",
       "        text-align: right;\n",
       "    }\n",
       "</style>\n",
       "<table border=\"1\" class=\"dataframe\">\n",
       "  <thead>\n",
       "    <tr style=\"text-align: right;\">\n",
       "      <th></th>\n",
       "      <th>hours</th>\n",
       "      <th>pass</th>\n",
       "    </tr>\n",
       "  </thead>\n",
       "  <tbody>\n",
       "    <tr>\n",
       "      <th>0</th>\n",
       "      <td>1</td>\n",
       "      <td>0</td>\n",
       "    </tr>\n",
       "    <tr>\n",
       "      <th>1</th>\n",
       "      <td>2</td>\n",
       "      <td>0</td>\n",
       "    </tr>\n",
       "    <tr>\n",
       "      <th>2</th>\n",
       "      <td>3</td>\n",
       "      <td>0</td>\n",
       "    </tr>\n",
       "    <tr>\n",
       "      <th>3</th>\n",
       "      <td>4</td>\n",
       "      <td>0</td>\n",
       "    </tr>\n",
       "    <tr>\n",
       "      <th>4</th>\n",
       "      <td>5</td>\n",
       "      <td>1</td>\n",
       "    </tr>\n",
       "    <tr>\n",
       "      <th>5</th>\n",
       "      <td>6</td>\n",
       "      <td>1</td>\n",
       "    </tr>\n",
       "    <tr>\n",
       "      <th>6</th>\n",
       "      <td>7</td>\n",
       "      <td>1</td>\n",
       "    </tr>\n",
       "    <tr>\n",
       "      <th>7</th>\n",
       "      <td>8</td>\n",
       "      <td>1</td>\n",
       "    </tr>\n",
       "  </tbody>\n",
       "</table>\n",
       "</div>"
      ],
      "text/plain": [
       "   hours  pass\n",
       "0      1     0\n",
       "1      2     0\n",
       "2      3     0\n",
       "3      4     0\n",
       "4      5     1\n",
       "5      6     1\n",
       "6      7     1\n",
       "7      8     1"
      ]
     },
     "execution_count": 177,
     "metadata": {},
     "output_type": "execute_result"
    }
   ],
   "source": [
    "df = pd.read_csv('q2.csv')\n",
    "df"
   ]
  },
  {
   "cell_type": "code",
   "execution_count": 178,
   "id": "6c34892b",
   "metadata": {},
   "outputs": [],
   "source": [
    "X = df['hours']\n",
    "y = df['pass']"
   ]
  },
  {
   "cell_type": "code",
   "execution_count": 179,
   "id": "7ea917a3",
   "metadata": {},
   "outputs": [],
   "source": [
    "def sigmoid(z):\n",
    "    return 1/(1+np.exp(-z))"
   ]
  },
  {
   "cell_type": "code",
   "execution_count": 135,
   "id": "5d8c9069",
   "metadata": {},
   "outputs": [],
   "source": [
    "def gradient_descent_logistic(X, y, alpha, iters):\n",
    "    b0 = np.random.rand() * 0.01\n",
    "    b1 = np.random.rand() * 0.01\n",
    "    costs = []\n",
    "    \n",
    "    for i in range(iters):\n",
    "        for j in range(len(X)):\n",
    "            y_pred = sigmoid(b1*X[j] + b0)\n",
    "            error = y_pred - y[j]\n",
    "            b0 = b0 - alpha*error\n",
    "            b1 = b1 - alpha*error*X[j]\n",
    "        y_pred = sigmoid(b1*X + b0)\n",
    "        log_loss = -np.mean(y * np.log(y_pred) + (1 - y) * np.log(1 - y_pred))\n",
    "        costs.append(log_loss)\n",
    "            \n",
    "    y_pred = sigmoid(b1*X + b0)\n",
    "    df['predictions'] = y_pred\n",
    "    \n",
    "    y_class = (y_pred >= 0.5).astype(int)\n",
    "    accuracy = np.mean(y_class == y)\n",
    "    print(f\"Accuracy: {accuracy * 100:.2f}%\")\n",
    "    \n",
    "    return y_pred, costs"
   ]
  },
  {
   "cell_type": "code",
   "execution_count": 156,
   "id": "722d1dcc",
   "metadata": {},
   "outputs": [
    {
     "name": "stdout",
     "output_type": "stream",
     "text": [
      "Accuracy: 100.00%\n"
     ]
    }
   ],
   "source": [
    "preds, costs = gradient_descent_logistic(X, y, 0.01, 500)"
   ]
  },
  {
   "cell_type": "code",
   "execution_count": 157,
   "id": "e897f7a0",
   "metadata": {},
   "outputs": [
    {
     "data": {
      "text/plain": [
       "[<matplotlib.lines.Line2D at 0x7fec2e1e5310>]"
      ]
     },
     "execution_count": 157,
     "metadata": {},
     "output_type": "execute_result"
    },
    {
     "data": {
      "image/png": "[encoded data removed]",
      "text/plain": [
       "<Figure size 640x480 with 1 Axes>"
      ]
     },
     "metadata": {},
     "output_type": "display_data"
    }
   ],
   "source": [
    "plt.scatter(X, y)\n",
    "plt.plot(X, preds, color='red')"
   ]
  },
  {
   "cell_type": "code",
   "execution_count": 158,
   "id": "d8d61597",
   "metadata": {},
   "outputs": [
    {
     "data": {
      "text/plain": [
       "[<matplotlib.lines.Line2D at 0x7fec2e050e90>]"
      ]
     },
     "execution_count": 158,
     "metadata": {},
     "output_type": "execute_result"
    },
    {
     "data": {
      "image/png": "[encoded data removed]",
      "text/plain": [
       "<Figure size 640x480 with 1 Axes>"
      ]
     },
     "metadata": {},
     "output_type": "display_data"
    }
   ],
   "source": [
    "plt.plot(range(len(costs)), costs)"
   ]
  },
  {
   "cell_type": "code",
   "execution_count": 185,
   "id": "d22bf393",
   "metadata": {},
   "outputs": [
    {
     "name": "stdout",
     "output_type": "stream",
     "text": [
      "Accuracy: 100.00%\n",
      "Log Loss: 0.0144\n"
     ]
    }
   ],
   "source": [
    "# Using sklearn\n",
    "from sklearn.linear_model import LogisticRegression\n",
    "from sklearn.metrics import log_loss, accuracy_score\n",
    "X = X.to_numpy()\n",
    "X = X.reshape(-1,1)\n",
    "model = LogisticRegression(max_iter=1000, solver='lbfgs', C=1/0.01)\n",
    "model.fit(X, y)\n",
    "\n",
    "y_pred_proba = model.predict_proba(X)[:, 1]\n",
    "y_pred_class = model.predict(X)\n",
    "\n",
    "log_loss_value = log_loss(y, y_pred_proba)\n",
    "accuracy = accuracy_score(y, y_pred_class)\n",
    "\n",
    "print(f\"Accuracy: {accuracy * 100:.2f}%\")\n",
    "print(f\"Log Loss: {log_loss_value:.4f}\")"
   ]
  },
  {
   "cell_type": "code",
   "execution_count": 155,
   "id": "020c8864",
   "metadata": {},
   "outputs": [],
   "source": [
    "# Question 3:\n",
    "\n",
    "# Consider the above dataset with two independent variables (X1 and X2) and a dependent variable (Y).\n",
    "# Implement in python, how you can perform the logistic regression to model the relationship between the\n",
    "# independent variables and the dependent variable."
   ]
  },
  {
   "cell_type": "code",
   "execution_count": 166,
   "id": "e604df0a",
   "metadata": {},
   "outputs": [
    {
     "data": {
      "text/html": [
       "<div>\n",
       "<style scoped>\n",
       "    .dataframe tbody tr th:only-of-type {\n",
       "        vertical-align: middle;\n",
       "    }\n",
       "\n",
       "    .dataframe tbody tr th {\n",
       "        vertical-align: top;\n",
       "    }\n",
       "\n",
       "    .dataframe thead th {\n",
       "        text-align: right;\n",
       "    }\n",
       "</style>\n",
       "<table border=\"1\" class=\"dataframe\">\n",
       "  <thead>\n",
       "    <tr style=\"text-align: right;\">\n",
       "      <th></th>\n",
       "      <th>x1</th>\n",
       "      <th>x2</th>\n",
       "      <th>y</th>\n",
       "    </tr>\n",
       "  </thead>\n",
       "  <tbody>\n",
       "    <tr>\n",
       "      <th>0</th>\n",
       "      <td>4</td>\n",
       "      <td>1</td>\n",
       "      <td>1</td>\n",
       "    </tr>\n",
       "    <tr>\n",
       "      <th>1</th>\n",
       "      <td>2</td>\n",
       "      <td>8</td>\n",
       "      <td>0</td>\n",
       "    </tr>\n",
       "    <tr>\n",
       "      <th>2</th>\n",
       "      <td>1</td>\n",
       "      <td>0</td>\n",
       "      <td>1</td>\n",
       "    </tr>\n",
       "    <tr>\n",
       "      <th>3</th>\n",
       "      <td>3</td>\n",
       "      <td>2</td>\n",
       "      <td>0</td>\n",
       "    </tr>\n",
       "    <tr>\n",
       "      <th>4</th>\n",
       "      <td>1</td>\n",
       "      <td>4</td>\n",
       "      <td>0</td>\n",
       "    </tr>\n",
       "    <tr>\n",
       "      <th>5</th>\n",
       "      <td>6</td>\n",
       "      <td>7</td>\n",
       "      <td>0</td>\n",
       "    </tr>\n",
       "  </tbody>\n",
       "</table>\n",
       "</div>"
      ],
      "text/plain": [
       "   x1  x2  y\n",
       "0   4   1  1\n",
       "1   2   8  0\n",
       "2   1   0  1\n",
       "3   3   2  0\n",
       "4   1   4  0\n",
       "5   6   7  0"
      ]
     },
     "execution_count": 166,
     "metadata": {},
     "output_type": "execute_result"
    }
   ],
   "source": [
    "df = pd.read_csv('q3.csv')\n",
    "df['y'] = (df['y'] > 0).astype(int)\n",
    "df"
   ]
  },
  {
   "cell_type": "code",
   "execution_count": 167,
   "id": "03ada916",
   "metadata": {},
   "outputs": [],
   "source": [
    "X = df[['x1', 'x2']]\n",
    "y = df['y']"
   ]
  },
  {
   "cell_type": "code",
   "execution_count": 171,
   "id": "0a4d53e9",
   "metadata": {},
   "outputs": [],
   "source": [
    "def gradient_descent_logistic_multi(X, y, alpha, iters):\n",
    "    X = X.to_numpy()\n",
    "    m, n = X.shape\n",
    "    b0 = np.random.rand() * 0.01\n",
    "    b1 = np.random.rand(n) * 0.01\n",
    "    costs = []\n",
    "\n",
    "    for i in range(iters):\n",
    "        for j in range(m):\n",
    "            y_pred = sigmoid(np.dot(X[j], b1) + b0)\n",
    "            error = y_pred - y[j]\n",
    "            b0 = b0 - alpha * error\n",
    "            b1 = b1 - alpha * error * X[j]\n",
    "        \n",
    "        y_pred = sigmoid(np.dot(X, b1) + b0)\n",
    "        log_loss = -np.mean(y * np.log(y_pred + 1e-10) + (1 - y) * np.log(1 - y_pred + 1e-10))\n",
    "        costs.append(log_loss)\n",
    "    \n",
    "    y_pred = sigmoid(np.dot(X, b1) + b0)\n",
    "    df['predictions'] = y_pred\n",
    "    \n",
    "    y_class = (y_pred >= 0.5).astype(int)\n",
    "    accuracy = np.mean(y_class == y)\n",
    "    print(f\"Accuracy: {accuracy * 100:.2f}%\")\n",
    "    \n",
    "    return y_pred, costs"
   ]
  },
  {
   "cell_type": "code",
   "execution_count": 172,
   "id": "c4a760cc",
   "metadata": {},
   "outputs": [
    {
     "name": "stdout",
     "output_type": "stream",
     "text": [
      "Accuracy: 100.00%\n"
     ]
    },
    {
     "data": {
      "text/plain": [
       "(array([7.34522134e-01, 3.08524729e-04, 6.78275069e-01, 3.48826052e-01,\n",
       "        1.96855679e-02, 6.65166408e-03]),\n",
       " [0.5604567231190817,\n",
       "  0.4980102628508172,\n",
       "  0.46462292419489276,\n",
       "  0.44320870724009803,\n",
       "  0.42757410631433074,\n",
       "  0.4151061639396522,\n",
       "  0.4045612627299277,\n",
       "  0.3952898405101513,\n",
       "  0.3869264720230745,\n",
       "  0.3792523265061533,\n",
       "  0.3721288842136132,\n",
       "  0.3654638339205349,\n",
       "  0.3591925800912433,\n",
       "  0.35326777566379935,\n",
       "  0.34765318331885414,\n",
       "  0.342319965417433,\n",
       "  0.3372443822062392,\n",
       "  0.33240632940536935,\n",
       "  0.327788387874459,\n",
       "  0.32337519197050135,\n",
       "  0.31915299974044137,\n",
       "  0.3151093929836187,\n",
       "  0.31123306214720964,\n",
       "  0.3075136474804085,\n",
       "  0.3039416181008525,\n",
       "  0.3005081770678222,\n",
       "  0.2972051846594981,\n",
       "  0.2940250946899984,\n",
       "  0.29096090041243483,\n",
       "  0.28800608767089764,\n",
       "  0.2851545936977987,\n",
       "  0.2824007704376805,\n",
       "  0.27973935160080204,\n",
       "  0.277165422865474,\n",
       "  0.27467439479368727,\n",
       "  0.2722619781238839,\n",
       "  0.26992416117343665,\n",
       "  0.26765718913180064,\n",
       "  0.2654575450601861,\n",
       "  0.26332193243943314,\n",
       "  0.2612472591274963,\n",
       "  0.25923062260351115,\n",
       "  0.25726929638810364,\n",
       "  0.255360717540243,\n",
       "  0.2535024751400923,\n",
       "  0.25169229967535994,\n",
       "  0.24992805325580994,\n",
       "  0.24820772058705518,\n",
       "  0.2465294006406151,\n",
       "  0.24489129896256914,\n",
       "  0.24329172056802997,\n",
       "  0.24172906337314146,\n",
       "  0.24020181212041591,\n",
       "  0.2387085327569929,\n",
       "  0.23724786722885063,\n",
       "  0.23581852865716346,\n",
       "  0.2344192968658929,\n",
       "  0.23304901423234117,\n",
       "  0.23170658183481754,\n",
       "  0.230390955873774,\n",
       "  0.22910114434478412,\n",
       "  0.22783620394357648,\n",
       "  0.22659523718501495,\n",
       "  0.22537738971944576,\n",
       "  0.2241818478312274,\n",
       "  0.22300783610553387,\n",
       "  0.22185461525067884,\n",
       "  0.22072148006426673,\n",
       "  0.21960775753244366,\n",
       "  0.21851280505239734,\n",
       "  0.21743600876906133,\n",
       "  0.21637678201770924,\n",
       "  0.2153345638647939,\n",
       "  0.21430881773999952,\n",
       "  0.21329903015302873,\n",
       "  0.21230470948916155,\n",
       "  0.21132538487808664,\n",
       "  0.21036060513093238,\n",
       "  0.20940993774081876,\n",
       "  0.20847296794260653,\n",
       "  0.20754929782784823,\n",
       "  0.2066385455112495,\n",
       "  0.2057403443452214,\n",
       "  0.2048543421793608,\n",
       "  0.20398020066192704,\n",
       "  0.20311759458059872,\n",
       "  0.20226621123998897,\n",
       "  0.20142574987358233,\n",
       "  0.20059592108791838,\n",
       "  0.19977644633700564,\n",
       "  0.19896705742508833,\n",
       "  0.19816749603601994,\n",
       "  0.19737751328761802,\n",
       "  0.19659686930948653,\n",
       "  0.19582533284289463,\n",
       "  0.19506268086139777,\n",
       "  0.19430869821097055,\n",
       "  0.1935631772685081,\n",
       "  0.19282591761762605,\n",
       "  0.19209672574075556])"
      ]
     },
     "execution_count": 172,
     "metadata": {},
     "output_type": "execute_result"
    }
   ],
   "source": [
    "gradient_descent_logistic_multi(X, y, 0.01, 100)"
   ]
  },
  {
   "cell_type": "code",
   "execution_count": null,
   "id": "b5a21efd",
   "metadata": {},
   "outputs": [],
   "source": []
  }
 ],
 "metadata": {
  "kernelspec": {
   "display_name": "Python 3 (ipykernel)",
   "language": "python",
   "name": "python3"
  },
  "language_info": {
   "codemirror_mode": {
    "name": "ipython",
    "version": 3
   },
   "file_extension": ".py",
   "mimetype": "text/x-python",
   "name": "python",
   "nbconvert_exporter": "python",
   "pygments_lexer": "ipython3",
   "version": "3.12.3"
  }
 },
 "nbformat": 4,
 "nbformat_minor": 5
}
