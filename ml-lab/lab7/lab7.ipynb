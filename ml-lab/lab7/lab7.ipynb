{
 "cells": [
  {
   "cell_type": "code",
   "execution_count": 1,
   "id": "01082488",
   "metadata": {},
   "outputs": [],
   "source": [
    "import pandas as pd\n",
    "import numpy as np\n",
    "import matplotlib.pyplot as plt"
   ]
  },
  {
   "cell_type": "code",
   "execution_count": 2,
   "id": "727fe8fc",
   "metadata": {},
   "outputs": [],
   "source": [
    "# Question 1\n",
    "\n",
    "# Implement in python program of the following problems using Bayes Theorem.\n",
    "# a) Of the students in the college, 60% of the students reside in the hostel and 40% of the students are day\n",
    "# scholars. Previous year results report that 30% of all students who stay in the hostel scored A Grade and 20%\n",
    "# of day scholars scored A grade. At the end of the year, one student is chosen at random and found that he/she\n",
    "# has an A grade. What is the probability that the student is a hosteler?\n",
    "# b) Suppose you're testing for a rare disease, and you have the following information:\n",
    "#  The disease has a prevalence of 0.01 (1% of the population has the disease).\n",
    "#  The test is not perfect:\n",
    "#  The test correctly identifies the disease (true positive) 99% of the time (sensitivity).\n",
    "#  The test incorrectly indicates the disease (false positive) 2% of the time (1 - specificity).\n",
    "# Calculate the probability of having the disease given a positive test result using Bayes' theorem."
   ]
  },
  {
   "cell_type": "code",
   "execution_count": 5,
   "id": "60b3abd3",
   "metadata": {},
   "outputs": [
    {
     "name": "stdout",
     "output_type": "stream",
     "text": [
      "Probability: 0.6923\n"
     ]
    }
   ],
   "source": [
    "prob_hosteler = 0.60\n",
    "prob_day_scholar = 0.40\n",
    "prob_A_given_hosteler = 0.30\n",
    "prob_A_given_day_scholar = 0.20\n",
    "\n",
    "prob_A = prob_A_given_hosteler * prob_hosteler + prob_A_given_day_scholar * prob_day_scholar\n",
    "\n",
    "prob_hosteler_given_A = (prob_A_given_hosteler * prob_hosteler) / prob_A\n",
    "\n",
    "print(f\"Probability: {prob_hosteler_given_A:.4f}\")"
   ]
  },
  {
   "cell_type": "code",
   "execution_count": 6,
   "id": "3feba6d7",
   "metadata": {},
   "outputs": [
    {
     "name": "stdout",
     "output_type": "stream",
     "text": [
      "Probability: 0.3333\n"
     ]
    }
   ],
   "source": [
    "prob_disease = 0.01\n",
    "prob_no_disease = 0.99\n",
    "prob_positive_given_disease = 0.99\n",
    "prob_positive_given_no_disease = 0.02\n",
    "\n",
    "prob_positive = prob_positive_given_disease * prob_disease + prob_positive_given_no_disease * prob_no_disease\n",
    "\n",
    "prob_disease_given_positive = (prob_positive_given_disease * prob_disease) / prob_positive\n",
    "\n",
    "print(f\"Probability: {prob_disease_given_positive:.4f}\")\n"
   ]
  },
  {
   "cell_type": "code",
   "execution_count": 7,
   "id": "a6da3a46",
   "metadata": {},
   "outputs": [],
   "source": [
    "# Question 2\n",
    "\n",
    "# Develop a function python code for Naïve Bayes classifier from scratch without using scikit-learn library,\n",
    "# to predict whether the buyer should buy computer or not. Consider a following sample training dataset stored\n",
    "# in a CSV file containing information about following buyer conditions (such as “<=30,” “medium,” “Yes,”\n",
    "# and “fair”) and whether the player played golf (“Yes” or “No”)."
   ]
  },
  {
   "cell_type": "code",
   "execution_count": 25,
   "id": "a7f91090",
   "metadata": {},
   "outputs": [
    {
     "name": "stdout",
     "output_type": "stream",
     "text": [
      "Prediction: yes\n",
      "Probability: 0.8350515463917526\n"
     ]
    }
   ],
   "source": [
    "def fit(X, y):\n",
    "    classes = y.unique()\n",
    "    class_probs = y.value_counts(normalize=True).to_dict()\n",
    "\n",
    "    feature_probs = {}\n",
    "    for feature in X.columns:\n",
    "        feature_probs[feature] = {}\n",
    "        for cls in classes:\n",
    "            subset = X[y == cls]\n",
    "            feature_prob = subset.groupby(feature).size() / subset.shape[0]\n",
    "            feature_probs[feature][cls] = feature_prob.to_dict()\n",
    "    \n",
    "    return class_probs, feature_probs, classes\n",
    "\n",
    "def predict(X, class_probs, feature_probs, classes):\n",
    "    predictions = []\n",
    "    probabilities = []\n",
    "    for _, row in X.iterrows():\n",
    "        class_probs_temp = {}\n",
    "        for cls in classes:\n",
    "            prob = class_probs[cls]\n",
    "            for feature in X.columns:\n",
    "                value = row[feature]\n",
    "                feature_prob = feature_probs.get(feature, {}).get(cls, {}).get(value, 0)\n",
    "                prob *= feature_prob\n",
    "            class_probs_temp[cls] = prob\n",
    "        \n",
    "        total_prob = sum(class_probs_temp.values())\n",
    "        if total_prob == 0:\n",
    "            total_prob = 1\n",
    "\n",
    "        class_probs_normalized = {cls: (prob / total_prob) for cls, prob in class_probs_temp.items()}\n",
    "        \n",
    "        predicted_class = max(class_probs_normalized, key=class_probs_normalized.get)\n",
    "        predictions.append(predicted_class)\n",
    "        probabilities.append(class_probs_normalized[predicted_class])\n",
    "        \n",
    "    return predictions, probabilities\n",
    "\n",
    "data = pd.read_csv('q2.csv')\n",
    "\n",
    "X = data.drop('buys_computer', axis=1)\n",
    "y = data['buys_computer']\n",
    "\n",
    "class_probs, feature_probs, classes = fit(X, y)\n",
    "\n",
    "test_data = pd.DataFrame([{\n",
    "    'age': '<=30',\n",
    "    'income': 'medium',\n",
    "    'student': 'yes',\n",
    "    'credit_rating': 'fair'\n",
    "}])\n",
    "\n",
    "predictions, probabilities = predict(test_data, class_probs, feature_probs, classes)\n",
    "\n",
    "print(f'Prediction: {predictions[0]}')\n",
    "print(f'Probability: {probabilities[0]}')"
   ]
  },
  {
   "cell_type": "code",
   "execution_count": 22,
   "id": "8a71f6ee",
   "metadata": {},
   "outputs": [],
   "source": [
    "# Question 3\n",
    "\n",
    "# Write a Python function to implement the Naive Bayes classifier without using the scikit-learn library for the\n",
    "# following sample training dataset stored as a .CSV file. Calculate the accuracy, precision, and recall for your train/test\n",
    "# dataset.\n",
    "# a. Build a classifier that determines whether a text is about sports or not.\n",
    "# b. Determine which tag the sentence \"A very close game\" belongs to."
   ]
  },
  {
   "cell_type": "code",
   "execution_count": 29,
   "id": "761a1d30",
   "metadata": {},
   "outputs": [
    {
     "name": "stdout",
     "output_type": "stream",
     "text": [
      "Prediction: sports\n",
      "Probability: 0.9417083804295171\n"
     ]
    }
   ],
   "source": [
    "def fit(X, y):\n",
    "    classes = y.unique()\n",
    "    class_counts = y.value_counts()\n",
    "    total_count = len(y)\n",
    "    class_probs = {cls: count / total_count for cls, count in class_counts.items()}\n",
    "\n",
    "    word_probs = {cls: {} for cls in classes}\n",
    "    vocabulary = set()\n",
    "\n",
    "    for cls in classes:\n",
    "        subset = X[y == cls]\n",
    "        words = ' '.join(subset).split()\n",
    "        vocabulary.update(words)\n",
    "        word_counts = pd.Series(words).value_counts()\n",
    "        total_words = len(words)\n",
    "        for word in vocabulary:\n",
    "            word_probs[cls][word] = (word_counts.get(word, 0) + 1) / (total_words + len(vocabulary))\n",
    "\n",
    "    return class_probs, word_probs, vocabulary, classes\n",
    "\n",
    "def predict(X, class_probs, word_probs, vocabulary, classes):\n",
    "    predictions = []\n",
    "    confidences = []\n",
    "    \n",
    "    for text in X:\n",
    "        words = text.split()\n",
    "        class_probs_score = {}\n",
    "        for cls in classes:\n",
    "            prob = class_probs[cls]\n",
    "            for word in words:\n",
    "                prob *= word_probs[cls].get(word, 1 / (sum(word_probs[cls].values()) + len(vocabulary)))\n",
    "            class_probs_score[cls] = prob\n",
    "\n",
    "        total_score = sum(class_probs_score.values())\n",
    "        class_probs_normalized = {cls: score / total_score for cls, score in class_probs_score.items()}\n",
    "\n",
    "        predicted_class = max(class_probs_normalized, key=class_probs_normalized.get)\n",
    "        predictions.append(predicted_class)\n",
    "        confidences.append(class_probs_normalized[predicted_class])\n",
    "    \n",
    "    return predictions, confidences\n",
    "\n",
    "df = pd.read_csv(\"q3.csv\")\n",
    "\n",
    "class_probs, word_probs, vocabulary, classes = fit(df['text'], df['tag'])\n",
    "\n",
    "y_true = df['tag']\n",
    "y_pred, confidences = predict(df['text'], class_probs, word_probs, vocabulary, classes)\n",
    "\n",
    "test_sentence = [\"A very close game\"]\n",
    "predicted_tag, confidence = predict(test_sentence, class_probs, word_probs, vocabulary, classes)\n",
    "print(f'Prediction: {predicted_tag[0]}')\n",
    "print(f'Probability: {confidence[0]}')"
   ]
  }
 ],
 "metadata": {
  "kernelspec": {
   "display_name": "Python 3 (ipykernel)",
   "language": "python",
   "name": "python3"
  },
  "language_info": {
   "codemirror_mode": {
    "name": "ipython",
    "version": 3
   },
   "file_extension": ".py",
   "mimetype": "text/x-python",
   "name": "python",
   "nbconvert_exporter": "python",
   "pygments_lexer": "ipython3",
   "version": "3.12.3"
  }
 },
 "nbformat": 4,
 "nbformat_minor": 5
}
