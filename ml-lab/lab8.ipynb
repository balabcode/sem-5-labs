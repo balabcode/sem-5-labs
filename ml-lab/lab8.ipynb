{
 "cells": [
  {
   "cell_type": "code",
   "execution_count": 1,
   "id": "81aeba72",
   "metadata": {},
   "outputs": [],
   "source": [
    "import numpy as np\n",
    "import pandas as pd\n",
    "import matplotlib.pyplot as plt"
   ]
  },
  {
   "cell_type": "code",
   "execution_count": 2,
   "id": "8b4c499c",
   "metadata": {},
   "outputs": [],
   "source": [
    "# Question 1\n",
    "\n",
    "# 1. Implement the KNN algorithm manually with k=3 to classify a new fruit with a weight of 165 grams\n",
    "# and sweetness level of 5.5.\n",
    "# 2. Calculate the Euclidean, Manhattan, and Minkowski distances between the new fruit and all the\n",
    "# existing fruits in the dataset. Finally compare the calculated distances.\n",
    "# 3. Based on the k-nearest neighbors, determine the label for the new fruit.\n",
    "# 4. What is the effect of choosing different values of k (e.g., k=1, k=5) on the classification result?\n",
    "# 5. Implement the above using function python program without using scikit learn library.\n",
    "# 6. Plot the given samples, the Apple in Red color and the Orange in orange color. Also draw the\n",
    "# decision boundary."
   ]
  },
  {
   "cell_type": "code",
   "execution_count": 3,
   "id": "8c6e4ee3",
   "metadata": {},
   "outputs": [],
   "source": [
    "def euclidean_distance(x1, x2):\n",
    "    return np.sqrt((x1[0] - x2[0])**2 + (x1[1] - x2[1])**2)\n",
    "\n",
    "def manhattan_distance(x1, x2):\n",
    "    return np.abs(x1[0] - x2[0]) + np.abs(x1[1] - x2[1])\n",
    "\n",
    "def minkowski_distance(x1, x2, p=2):\n",
    "    return np.power(np.abs(x1[0] - x2[0])**p + np.abs(x1[1] - x2[1])**p, 1/p)"
   ]
  },
  {
   "cell_type": "code",
   "execution_count": 4,
   "id": "bb0b9c58",
   "metadata": {},
   "outputs": [],
   "source": [
    "def knn(point, data, k, distance_func=euclidean_distance, show=False):\n",
    "    distances = []\n",
    "    \n",
    "    for index, row in data.iterrows():\n",
    "        distance = distance_func(point, row[1:-1])\n",
    "        distances.append((distance, row))\n",
    "\n",
    "    distances.sort(key=lambda x: x[0])\n",
    "    neighbors = distances[:k]\n",
    "    \n",
    "    labels = [neighbor[1][-1] for neighbor in neighbors]\n",
    "    \n",
    "    if show:\n",
    "        print(f'label: {max(set(labels), key=labels.count)}\\nvalues:{distances}')\n",
    "    \n",
    "    return max(set(labels), key=labels.count)"
   ]
  },
  {
   "cell_type": "code",
   "execution_count": 34,
   "id": "eec53fda",
   "metadata": {},
   "outputs": [],
   "source": [
    "data = pd.read_csv('q1.csv')"
   ]
  },
  {
   "cell_type": "code",
   "execution_count": 6,
   "id": "0185edfd",
   "metadata": {},
   "outputs": [
    {
     "data": {
      "text/html": [
       "<div>\n",
       "<style scoped>\n",
       "    .dataframe tbody tr th:only-of-type {\n",
       "        vertical-align: middle;\n",
       "    }\n",
       "\n",
       "    .dataframe tbody tr th {\n",
       "        vertical-align: top;\n",
       "    }\n",
       "\n",
       "    .dataframe thead th {\n",
       "        text-align: right;\n",
       "    }\n",
       "</style>\n",
       "<table border=\"1\" class=\"dataframe\">\n",
       "  <thead>\n",
       "    <tr style=\"text-align: right;\">\n",
       "      <th></th>\n",
       "      <th>fruit_id</th>\n",
       "      <th>weight</th>\n",
       "      <th>sweetness</th>\n",
       "      <th>label</th>\n",
       "    </tr>\n",
       "  </thead>\n",
       "  <tbody>\n",
       "    <tr>\n",
       "      <th>0</th>\n",
       "      <td>1</td>\n",
       "      <td>180</td>\n",
       "      <td>7</td>\n",
       "      <td>apple</td>\n",
       "    </tr>\n",
       "    <tr>\n",
       "      <th>1</th>\n",
       "      <td>2</td>\n",
       "      <td>200</td>\n",
       "      <td>6</td>\n",
       "      <td>apple</td>\n",
       "    </tr>\n",
       "    <tr>\n",
       "      <th>2</th>\n",
       "      <td>3</td>\n",
       "      <td>150</td>\n",
       "      <td>4</td>\n",
       "      <td>orange</td>\n",
       "    </tr>\n",
       "    <tr>\n",
       "      <th>3</th>\n",
       "      <td>4</td>\n",
       "      <td>170</td>\n",
       "      <td>5</td>\n",
       "      <td>orange</td>\n",
       "    </tr>\n",
       "    <tr>\n",
       "      <th>4</th>\n",
       "      <td>5</td>\n",
       "      <td>160</td>\n",
       "      <td>6</td>\n",
       "      <td>apple</td>\n",
       "    </tr>\n",
       "    <tr>\n",
       "      <th>5</th>\n",
       "      <td>6</td>\n",
       "      <td>140</td>\n",
       "      <td>3</td>\n",
       "      <td>orange</td>\n",
       "    </tr>\n",
       "  </tbody>\n",
       "</table>\n",
       "</div>"
      ],
      "text/plain": [
       "   fruit_id  weight  sweetness   label\n",
       "0         1     180          7   apple\n",
       "1         2     200          6   apple\n",
       "2         3     150          4  orange\n",
       "3         4     170          5  orange\n",
       "4         5     160          6   apple\n",
       "5         6     140          3  orange"
      ]
     },
     "execution_count": 6,
     "metadata": {},
     "output_type": "execute_result"
    }
   ],
   "source": [
    "data"
   ]
  },
  {
   "cell_type": "code",
   "execution_count": 7,
   "id": "b3a57bdf",
   "metadata": {},
   "outputs": [
    {
     "name": "stdout",
     "output_type": "stream",
     "text": [
      "label: apple\n",
      "values:[(5.024937810560445, fruit_id          4\n",
      "weight          170\n",
      "sweetness         5\n",
      "label        orange\n",
      "Name: 3, dtype: object), (5.024937810560445, fruit_id         5\n",
      "weight         160\n",
      "sweetness        6\n",
      "label        apple\n",
      "Name: 4, dtype: object), (15.074813431681335, fruit_id         1\n",
      "weight         180\n",
      "sweetness        7\n",
      "label        apple\n",
      "Name: 0, dtype: object), (15.074813431681335, fruit_id          3\n",
      "weight          150\n",
      "sweetness         4\n",
      "label        orange\n",
      "Name: 2, dtype: object), (25.124689052802225, fruit_id          6\n",
      "weight          140\n",
      "sweetness         3\n",
      "label        orange\n",
      "Name: 5, dtype: object), (35.00357124637428, fruit_id         2\n",
      "weight         200\n",
      "sweetness        6\n",
      "label        apple\n",
      "Name: 1, dtype: object)]\n"
     ]
    },
    {
     "name": "stderr",
     "output_type": "stream",
     "text": [
      "/tmp/ipykernel_8471/3691856853.py:2: FutureWarning: Series.__getitem__ treating keys as positions is deprecated. In a future version, integer keys will always be treated as labels (consistent with DataFrame behavior). To access a value by position, use `ser.iloc[pos]`\n",
      "  return np.sqrt((x1[0] - x2[0])**2 + (x1[1] - x2[1])**2)\n",
      "/tmp/ipykernel_8471/1771855820.py:11: FutureWarning: Series.__getitem__ treating keys as positions is deprecated. In a future version, integer keys will always be treated as labels (consistent with DataFrame behavior). To access a value by position, use `ser.iloc[pos]`\n",
      "  labels = [neighbor[1][-1] for neighbor in neighbors]\n"
     ]
    },
    {
     "data": {
      "text/plain": [
       "'apple'"
      ]
     },
     "execution_count": 7,
     "metadata": {},
     "output_type": "execute_result"
    }
   ],
   "source": [
    "knn((165,5.5), data, 3, distance_func=euclidean_distance, show=True)"
   ]
  },
  {
   "cell_type": "code",
   "execution_count": 8,
   "id": "40e07d35",
   "metadata": {},
   "outputs": [
    {
     "name": "stdout",
     "output_type": "stream",
     "text": [
      "label: apple\n",
      "values:[(5.5, fruit_id          4\n",
      "weight          170\n",
      "sweetness         5\n",
      "label        orange\n",
      "Name: 3, dtype: object), (5.5, fruit_id         5\n",
      "weight         160\n",
      "sweetness        6\n",
      "label        apple\n",
      "Name: 4, dtype: object), (16.5, fruit_id         1\n",
      "weight         180\n",
      "sweetness        7\n",
      "label        apple\n",
      "Name: 0, dtype: object), (16.5, fruit_id          3\n",
      "weight          150\n",
      "sweetness         4\n",
      "label        orange\n",
      "Name: 2, dtype: object), (27.5, fruit_id          6\n",
      "weight          140\n",
      "sweetness         3\n",
      "label        orange\n",
      "Name: 5, dtype: object), (35.5, fruit_id         2\n",
      "weight         200\n",
      "sweetness        6\n",
      "label        apple\n",
      "Name: 1, dtype: object)]\n"
     ]
    },
    {
     "name": "stderr",
     "output_type": "stream",
     "text": [
      "/tmp/ipykernel_8471/3691856853.py:5: FutureWarning: Series.__getitem__ treating keys as positions is deprecated. In a future version, integer keys will always be treated as labels (consistent with DataFrame behavior). To access a value by position, use `ser.iloc[pos]`\n",
      "  return np.abs(x1[0] - x2[0]) + np.abs(x1[1] - x2[1])\n",
      "/tmp/ipykernel_8471/1771855820.py:11: FutureWarning: Series.__getitem__ treating keys as positions is deprecated. In a future version, integer keys will always be treated as labels (consistent with DataFrame behavior). To access a value by position, use `ser.iloc[pos]`\n",
      "  labels = [neighbor[1][-1] for neighbor in neighbors]\n"
     ]
    },
    {
     "data": {
      "text/plain": [
       "'apple'"
      ]
     },
     "execution_count": 8,
     "metadata": {},
     "output_type": "execute_result"
    }
   ],
   "source": [
    "knn((165,5.5), data, 3, distance_func=manhattan_distance, show=True)"
   ]
  },
  {
   "cell_type": "code",
   "execution_count": 9,
   "id": "7eb92bf1",
   "metadata": {},
   "outputs": [
    {
     "name": "stdout",
     "output_type": "stream",
     "text": [
      "label: apple\n",
      "values:[(5.024937810560445, fruit_id          4\n",
      "weight          170\n",
      "sweetness         5\n",
      "label        orange\n",
      "Name: 3, dtype: object), (5.024937810560445, fruit_id         5\n",
      "weight         160\n",
      "sweetness        6\n",
      "label        apple\n",
      "Name: 4, dtype: object), (15.074813431681335, fruit_id         1\n",
      "weight         180\n",
      "sweetness        7\n",
      "label        apple\n",
      "Name: 0, dtype: object), (15.074813431681335, fruit_id          3\n",
      "weight          150\n",
      "sweetness         4\n",
      "label        orange\n",
      "Name: 2, dtype: object), (25.124689052802225, fruit_id          6\n",
      "weight          140\n",
      "sweetness         3\n",
      "label        orange\n",
      "Name: 5, dtype: object), (35.00357124637428, fruit_id         2\n",
      "weight         200\n",
      "sweetness        6\n",
      "label        apple\n",
      "Name: 1, dtype: object)]\n"
     ]
    },
    {
     "name": "stderr",
     "output_type": "stream",
     "text": [
      "/tmp/ipykernel_8471/3691856853.py:8: FutureWarning: Series.__getitem__ treating keys as positions is deprecated. In a future version, integer keys will always be treated as labels (consistent with DataFrame behavior). To access a value by position, use `ser.iloc[pos]`\n",
      "  return np.power(np.abs(x1[0] - x2[0])**p + np.abs(x1[1] - x2[1])**p, 1/p)\n",
      "/tmp/ipykernel_8471/1771855820.py:11: FutureWarning: Series.__getitem__ treating keys as positions is deprecated. In a future version, integer keys will always be treated as labels (consistent with DataFrame behavior). To access a value by position, use `ser.iloc[pos]`\n",
      "  labels = [neighbor[1][-1] for neighbor in neighbors]\n"
     ]
    },
    {
     "data": {
      "text/plain": [
       "'apple'"
      ]
     },
     "execution_count": 9,
     "metadata": {},
     "output_type": "execute_result"
    }
   ],
   "source": [
    "knn((165,5.5), data, 3, distance_func=minkowski_distance, show=True)"
   ]
  },
  {
   "cell_type": "code",
   "execution_count": 10,
   "id": "b7dabfd1",
   "metadata": {},
   "outputs": [
    {
     "name": "stderr",
     "output_type": "stream",
     "text": [
      "/tmp/ipykernel_8471/3691856853.py:2: FutureWarning: Series.__getitem__ treating keys as positions is deprecated. In a future version, integer keys will always be treated as labels (consistent with DataFrame behavior). To access a value by position, use `ser.iloc[pos]`\n",
      "  return np.sqrt((x1[0] - x2[0])**2 + (x1[1] - x2[1])**2)\n",
      "/tmp/ipykernel_8471/1771855820.py:11: FutureWarning: Series.__getitem__ treating keys as positions is deprecated. In a future version, integer keys will always be treated as labels (consistent with DataFrame behavior). To access a value by position, use `ser.iloc[pos]`\n",
      "  labels = [neighbor[1][-1] for neighbor in neighbors]\n"
     ]
    },
    {
     "data": {
      "text/plain": [
       "'orange'"
      ]
     },
     "execution_count": 10,
     "metadata": {},
     "output_type": "execute_result"
    }
   ],
   "source": [
    "knn((165,5.5), data, 5, distance_func=euclidean_distance)"
   ]
  },
  {
   "cell_type": "code",
   "execution_count": 11,
   "id": "70b7d754",
   "metadata": {},
   "outputs": [
    {
     "name": "stderr",
     "output_type": "stream",
     "text": [
      "/tmp/ipykernel_8471/3691856853.py:2: FutureWarning: Series.__getitem__ treating keys as positions is deprecated. In a future version, integer keys will always be treated as labels (consistent with DataFrame behavior). To access a value by position, use `ser.iloc[pos]`\n",
      "  return np.sqrt((x1[0] - x2[0])**2 + (x1[1] - x2[1])**2)\n",
      "/tmp/ipykernel_8471/1771855820.py:11: FutureWarning: Series.__getitem__ treating keys as positions is deprecated. In a future version, integer keys will always be treated as labels (consistent with DataFrame behavior). To access a value by position, use `ser.iloc[pos]`\n",
      "  labels = [neighbor[1][-1] for neighbor in neighbors]\n"
     ]
    },
    {
     "data": {
      "text/plain": [
       "'apple'"
      ]
     },
     "execution_count": 11,
     "metadata": {},
     "output_type": "execute_result"
    }
   ],
   "source": [
    "knn((165,5.5), data, 4, distance_func=euclidean_distance)"
   ]
  },
  {
   "cell_type": "code",
   "execution_count": 12,
   "id": "dac2b45e",
   "metadata": {},
   "outputs": [
    {
     "name": "stderr",
     "output_type": "stream",
     "text": [
      "/tmp/ipykernel_8471/3691856853.py:2: FutureWarning: Series.__getitem__ treating keys as positions is deprecated. In a future version, integer keys will always be treated as labels (consistent with DataFrame behavior). To access a value by position, use `ser.iloc[pos]`\n",
      "  return np.sqrt((x1[0] - x2[0])**2 + (x1[1] - x2[1])**2)\n",
      "/tmp/ipykernel_8471/1771855820.py:11: FutureWarning: Series.__getitem__ treating keys as positions is deprecated. In a future version, integer keys will always be treated as labels (consistent with DataFrame behavior). To access a value by position, use `ser.iloc[pos]`\n",
      "  labels = [neighbor[1][-1] for neighbor in neighbors]\n"
     ]
    },
    {
     "data": {
      "text/plain": [
       "'orange'"
      ]
     },
     "execution_count": 12,
     "metadata": {},
     "output_type": "execute_result"
    }
   ],
   "source": [
    "knn((165,5.5), data, 1, distance_func=euclidean_distance)"
   ]
  },
  {
   "cell_type": "code",
   "execution_count": 13,
   "id": "cd953a05",
   "metadata": {},
   "outputs": [
    {
     "name": "stderr",
     "output_type": "stream",
     "text": [
      "/tmp/ipykernel_8471/3691856853.py:2: FutureWarning: Series.__getitem__ treating keys as positions is deprecated. In a future version, integer keys will always be treated as labels (consistent with DataFrame behavior). To access a value by position, use `ser.iloc[pos]`\n",
      "  return np.sqrt((x1[0] - x2[0])**2 + (x1[1] - x2[1])**2)\n",
      "/tmp/ipykernel_8471/1771855820.py:11: FutureWarning: Series.__getitem__ treating keys as positions is deprecated. In a future version, integer keys will always be treated as labels (consistent with DataFrame behavior). To access a value by position, use `ser.iloc[pos]`\n",
      "  labels = [neighbor[1][-1] for neighbor in neighbors]\n"
     ]
    },
    {
     "data": {
      "image/png": "[encoded data removed]",
      "text/plain": [
       "<Figure size 640x480 with 1 Axes>"
      ]
     },
     "metadata": {},
     "output_type": "display_data"
    }
   ],
   "source": [
    "plt.scatter(data[data['label'] == 'apple']['weight'], data[data['label'] == 'apple']['sweetness'], color='red', label='Apple')\n",
    "plt.scatter(data[data['label'] == 'orange']['weight'], data[data['label'] == 'orange']['sweetness'], color='orange', label='Orange')\n",
    "\n",
    "x_min, x_max = data['weight'].min() - 10, data['weight'].max() + 10\n",
    "y_min, y_max = data['sweetness'].min() - 1, data['sweetness'].max() + 1\n",
    "xx, yy = np.meshgrid(np.arange(x_min, x_max, 1), np.arange(y_min, y_max, 1))\n",
    "\n",
    "Z = np.array([0 if knn([xi, yi], data, k=3) == 'apple' else 1 for xi, yi in zip(xx.ravel(), yy.ravel())]).reshape(xx.shape)\n",
    "\n",
    "plt.contourf(xx, yy, Z, alpha=0.3, cmap='Pastel1')\n",
    "plt.show()"
   ]
  },
  {
   "cell_type": "code",
   "execution_count": 14,
   "id": "cb668e3a",
   "metadata": {},
   "outputs": [],
   "source": [
    "# Question 1.5\n",
    "\n",
    "# Implement the Python code for Q-1. A using the scikit-learn library. Plot the given samples, using red for\n",
    "# \"Apple\" and orange for \"Orange.\" Also, plot the decision boundary. Calculate the distances using Euclidean,\n",
    "# Manhattan, and Minkowski metrics, and compare the results."
   ]
  },
  {
   "cell_type": "code",
   "execution_count": 39,
   "id": "b6e11f4d",
   "metadata": {},
   "outputs": [
    {
     "name": "stdout",
     "output_type": "stream",
     "text": [
      "['orange']\n"
     ]
    },
    {
     "name": "stderr",
     "output_type": "stream",
     "text": [
      "/usr/lib/python3/dist-packages/sklearn/base.py:493: UserWarning: X does not have valid feature names, but KNeighborsClassifier was fitted with feature names\n",
      "  warnings.warn(\n",
      "/usr/lib/python3/dist-packages/sklearn/base.py:493: UserWarning: X does not have valid feature names, but KNeighborsClassifier was fitted with feature names\n",
      "  warnings.warn(\n"
     ]
    },
    {
     "data": {
      "image/png": "[encoded data removed]",
      "text/plain": [
       "<Figure size 640x480 with 1 Axes>"
      ]
     },
     "metadata": {},
     "output_type": "display_data"
    },
    {
     "name": "stdout",
     "output_type": "stream",
     "text": [
      "Euclidean distances: [15.07481343 35.00357125 15.07481343  5.02493781  5.02493781 25.12468905]\n",
      "Manhattan distances: [16.5 35.5 16.5  5.5  5.5 27.5]\n",
      "Minkowski distances (p=3): [15.00499833 35.00003401 15.00499833  5.00166611  5.00166611 25.00833056]\n"
     ]
    }
   ],
   "source": [
    "from sklearn.neighbors import KNeighborsClassifier\n",
    "from sklearn.metrics import pairwise_distances\n",
    "\n",
    "\n",
    "X = data[['weight', 'sweetness']]\n",
    "y = data['label']\n",
    "\n",
    "knn = KNeighborsClassifier(n_neighbors=3)\n",
    "knn.fit(X, y)\n",
    "\n",
    "print(knn.predict([[165, 5.5]]))\n",
    "plt.scatter(data[data['label'] == 'apple']['weight'], data[data['label'] == 'apple']['sweetness'], color='red', label='Apple')\n",
    "plt.scatter(data[data['label'] == 'orange']['weight'], data[data['label'] == 'orange']['sweetness'], color='orange', label='Orange')\n",
    "\n",
    "x_min, x_max = data['weight'].min() - 10, data['weight'].max() + 10\n",
    "y_min, y_max = data['sweetness'].min() - 1, data['sweetness'].max() + 1\n",
    "xx, yy = np.meshgrid(np.arange(x_min, x_max, 1), np.arange(y_min, y_max, 1))\n",
    "\n",
    "\n",
    "Z = knn.predict(np.c_[xx.ravel(), yy.ravel()])\n",
    "Z_numeric = np.where(Z == 'apple', 0, 1).reshape(xx.shape)\n",
    "plt.contourf(xx, yy, Z_numeric, alpha=0.3, cmap='Pastel1')\n",
    "plt.show()\n",
    "\n",
    "\n",
    "sample_point = np.array([[165, 5.5]])\n",
    "\n",
    "euclidean_distances = pairwise_distances(X, sample_point, metric='euclidean')\n",
    "manhattan_distances = pairwise_distances(X, sample_point, metric='manhattan')\n",
    "minkowski_distances = pairwise_distances(X, sample_point, metric='minkowski', p=3)  # Using p=3 for Minkowski\n",
    "\n",
    "print(\"Euclidean distances:\", euclidean_distances.flatten())\n",
    "print(\"Manhattan distances:\", manhattan_distances.flatten())\n",
    "print(\"Minkowski distances (p=3):\", minkowski_distances.flatten())"
   ]
  },
  {
   "cell_type": "code",
   "execution_count": 16,
   "id": "28f37692",
   "metadata": {},
   "outputs": [],
   "source": [
    "# Question 2:\n",
    "\n",
    "# 1. Calculate the entropy for the target variable (Diagnosis).\n",
    "# 2. Calculate the information gain for each feature (Age, Blood Pressure, Cholesterol).3. Using the ID3 algorithm, decide which feature should be chosen as the root node for the decision\n",
    "# tree.\n",
    "# 4. Build the decision tree and explain the first few splits.\n",
    "# 5. Predict whether a 50-year-old patient with low blood pressure and normal cholesterol is healthy or\n",
    "# sick using the tree you built.\n",
    "# 6. Implement the above using function python program without using scikit learn library."
   ]
  },
  {
   "cell_type": "code",
   "execution_count": 17,
   "id": "4cec007f",
   "metadata": {},
   "outputs": [],
   "source": [
    "data = pd.read_csv('q2.csv')"
   ]
  },
  {
   "cell_type": "code",
   "execution_count": 55,
   "id": "e9739754",
   "metadata": {},
   "outputs": [
    {
     "name": "stdout",
     "output_type": "stream",
     "text": [
      "{'age': {65: 'sick', 35: 'healthy', 40: 'sick', 45: 'healthy', 50: 'sick', 55: 'healthy', 25: 'healthy', 60: 'sick', 30: 'sick'}}\n",
      "Prediction for the sample: sick\n"
     ]
    }
   ],
   "source": [
    "import numpy as np\n",
    "import pandas as pd\n",
    "import matplotlib.pyplot as plt\n",
    "import math\n",
    "from collections import Counter\n",
    "\n",
    "df = pd.read_csv('q2.csv')\n",
    "\n",
    "def entropy(data):\n",
    "    total = len(data)\n",
    "    if total == 0:\n",
    "        return 0\n",
    "    counts = Counter(data)\n",
    "    return -sum((count/total) * math.log2(count/total) for count in counts.values())\n",
    "\n",
    "def information_gain(data, feature_idx):\n",
    "    total_entropy = entropy([row[-1] for row in data])\n",
    "    total = len(data)\n",
    "\n",
    "    values = set(row[feature_idx] for row in data)\n",
    "    weighted_entropy = sum((len(subset) / total) * entropy([row[-1] for row in subset]) \n",
    "                           for value in values \n",
    "                           for subset in [list(filter(lambda x: x[feature_idx] == value, data))])\n",
    "\n",
    "    return total_entropy - weighted_entropy\n",
    "\n",
    "def id3(data, features):\n",
    "    labels = [row[-1] for row in data]\n",
    "\n",
    "    if len(set(labels)) == 1:\n",
    "        return labels[0]\n",
    "\n",
    "    if not features:\n",
    "        return Counter(labels).most_common(1)[0][0]\n",
    "\n",
    "    gains = [information_gain(data, feature) for feature in range(len(features))]\n",
    "    best_feature = gains.index(max(gains))\n",
    "\n",
    "    tree = {features[best_feature]: {}}\n",
    "    remaining_features = features[:best_feature] + features[best_feature + 1:]\n",
    "\n",
    "    for value in set(row[best_feature] for row in data):\n",
    "        subset = [row for row in data if row[best_feature] == value]\n",
    "        subtree = id3(subset, remaining_features)\n",
    "        tree[features[best_feature]][value] = subtree\n",
    "\n",
    "    return tree\n",
    "\n",
    "data = df.drop(columns=['patient_id']).values.tolist()\n",
    "\n",
    "features = [\"age\", \"blood pressure\", \"cholesterol\"]\n",
    "\n",
    "tree = id3(data, features)\n",
    "print(tree)\n",
    "\n",
    "def predict(tree, features, sample):\n",
    "    if not isinstance(tree, dict):\n",
    "        return tree\n",
    "    feature = next(iter(tree))\n",
    "    value = sample[features.index(feature)]\n",
    "    return predict(tree[feature].get(value, \"Unknown\"), features, sample)\n",
    "\n",
    "sample = [50, \"Low\", \"Normal\"]\n",
    "result = predict(tree, features, sample)\n",
    "print(f\"Prediction for the sample: {result}\")"
   ]
  },
  {
   "cell_type": "code",
   "execution_count": 24,
   "id": "324ddb72",
   "metadata": {},
   "outputs": [],
   "source": [
    "# Question 2.5\n",
    "# Implement the Python code for Q-2. A using the scikit-learn library. Using the ID3 algorithm, decide which\n",
    "# feature should be chosen as the root node for the decision tree. Build the decision tree and explain the first\n",
    "# few splits. Predict whether a 50-year-old patient with low blood pressure and normal cholesterol is healthy\n",
    "# or sick using the tree you built."
   ]
  },
  {
   "cell_type": "code",
   "execution_count": 25,
   "id": "7b8a7d2d",
   "metadata": {},
   "outputs": [
    {
     "name": "stdout",
     "output_type": "stream",
     "text": [
      "Root feature: blood_pressure\n",
      "|--- blood_pressure <= 0.50\n",
      "|   |--- class: 0\n",
      "|--- blood_pressure >  0.50\n",
      "|   |--- class: 1\n",
      "\n",
      "healthy\n"
     ]
    },
    {
     "name": "stderr",
     "output_type": "stream",
     "text": [
      "/usr/lib/python3/dist-packages/sklearn/base.py:493: UserWarning: X does not have valid feature names, but DecisionTreeClassifier was fitted with feature names\n",
      "  warnings.warn(\n"
     ]
    }
   ],
   "source": [
    "from sklearn.tree import DecisionTreeClassifier, export_text\n",
    "data['blood_pressure'] = data['blood pressure'].map({'low': 0, 'high': 1})\n",
    "data['cholesterol'] = data['cholesterol'].map({'normal': 0, 'high': 1})\n",
    "data['diagnosis'] = data['diagnosis'].map({'healthy': 0, 'sick': 1})\n",
    "\n",
    "X = data[['age', 'blood_pressure', 'cholesterol']]\n",
    "y = data['diagnosis']\n",
    "\n",
    "clf = DecisionTreeClassifier(criterion='entropy')\n",
    "clf.fit(X, y)\n",
    "\n",
    "root_feature_index = clf.tree_.feature[0]\n",
    "root_feature = X.columns[root_feature_index]\n",
    "print(f\"Root feature: {root_feature}\")\n",
    "\n",
    "tree_rules = export_text(clf, feature_names=list(X.columns))\n",
    "print(tree_rules)\n",
    "\n",
    "patient_data = [[50, 0, 0]]\n",
    "prediction = clf.predict(patient_data)\n",
    "diagnosis = 'healthy' if prediction[0] == 0 else 'sick'\n",
    "print(diagnosis)"
   ]
  }
 ],
 "metadata": {
  "kernelspec": {
   "display_name": "Python 3 (ipykernel)",
   "language": "python",
   "name": "python3"
  },
  "language_info": {
   "codemirror_mode": {
    "name": "ipython",
    "version": 3
   },
   "file_extension": ".py",
   "mimetype": "text/x-python",
   "name": "python",
   "nbconvert_exporter": "python",
   "pygments_lexer": "ipython3",
   "version": "3.12.3"
  }
 },
 "nbformat": 4,
 "nbformat_minor": 5
}
