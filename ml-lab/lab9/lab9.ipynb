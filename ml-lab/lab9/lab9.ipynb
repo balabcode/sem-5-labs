{
 "cells": [
  {
   "cell_type": "code",
   "execution_count": 1,
   "id": "025771ea",
   "metadata": {},
   "outputs": [],
   "source": [
    "import numpy as np\n",
    "import pandas as pd\n",
    "import matplotlib.pyplot as plt"
   ]
  },
  {
   "cell_type": "code",
   "execution_count": 2,
   "id": "20963e8b",
   "metadata": {},
   "outputs": [],
   "source": [
    "# Write a python function program to demonstrate the working of the decision tree based C4.5 algorithms\n",
    "# without using scikit-learn library. Use following data set for building the decision tree and apply this\n",
    "# knowledge to classify a new sample.\n",
    "# The dataset has three attributes: Outlook (Sunny, Overcast, Rainy), Temperature, Humidity and Wind (Weak,\n",
    "# Strong). The target attribute is Play Tennis (Yes/No)."
   ]
  },
  {
   "cell_type": "code",
   "execution_count": 3,
   "id": "d2e6e56a",
   "metadata": {},
   "outputs": [],
   "source": [
    "df1 = pd.read_csv('q1.csv')"
   ]
  },
  {
   "cell_type": "code",
   "execution_count": 4,
   "id": "e8cd3666",
   "metadata": {},
   "outputs": [],
   "source": [
    "df1 = df1.drop(columns=['Day'])"
   ]
  },
  {
   "cell_type": "code",
   "execution_count": 5,
   "id": "0c6028a9",
   "metadata": {},
   "outputs": [],
   "source": [
    "def entropy(target_col):\n",
    "    counts = target_col.value_counts()\n",
    "    probabilities = counts / len(target_col)\n",
    "    return -np.sum(probabilities * np.log2(probabilities + 1e-10))\n",
    "\n",
    "def information_gain_c4(data, split_attribute, target_attribute):\n",
    "    total_entropy = entropy(data[target_attribute])\n",
    "    weighted_entropy = 0\n",
    "\n",
    "    for val, count in data[split_attribute].value_counts().items():\n",
    "        subset = data[data[split_attribute] == val]\n",
    "        weighted_entropy += (count / len(data)) * entropy(subset[target_attribute])\n",
    "\n",
    "    return total_entropy - weighted_entropy\n",
    "\n",
    "def best_split_c4(data, target_attribute):\n",
    "    info_gains = {col: information_gain_c4(data, col, target_attribute) for col in data.columns if col != target_attribute}\n",
    "    return max(info_gains, key=info_gains.get)\n",
    "\n",
    "def build_tree_c4(data, target_attribute):\n",
    "    if len(np.unique(data[target_attribute])) == 1:\n",
    "        return np.unique(data[target_attribute])[0]\n",
    "    if len(data) == 0:\n",
    "        return None\n",
    "\n",
    "    best_attr = best_split_c4(data, target_attribute)\n",
    "    tree = {best_attr: {}}\n",
    "    \n",
    "    for val in data[best_attr].unique():\n",
    "        subset = data[data[best_attr] == val]\n",
    "        tree[best_attr][val] = build_tree_c4(subset, target_attribute)\n",
    "    \n",
    "    return tree\n",
    "\n",
    "def classify_c4(instance, tree):\n",
    "    if not isinstance(tree, dict):\n",
    "        return tree\n",
    "    \n",
    "    attribute = next(iter(tree))\n",
    "    value = instance[attribute]\n",
    "    \n",
    "    if value in tree[attribute]:\n",
    "        return classify_c4(instance, tree[attribute][value])\n",
    "    else:\n",
    "        return None\n",
    "def print_tree(tree, prefix=\"\"):\n",
    "    if isinstance(tree, dict):\n",
    "        for key, value in tree.items():\n",
    "            print(prefix + str(key))\n",
    "            if isinstance(value, dict):\n",
    "                print_tree(value, prefix + \"├── \")\n",
    "            else:\n",
    "                print(prefix + \"├── \" + str(value))\n",
    "    else:\n",
    "        print(prefix + \"-> \" + str(tree))"
   ]
  },
  {
   "cell_type": "code",
   "execution_count": 6,
   "id": "fb7e4d65",
   "metadata": {},
   "outputs": [
    {
     "name": "stdout",
     "output_type": "stream",
     "text": [
      "Decision Tree:\n",
      "Temp.\n",
      "├── 85\n",
      "├── ├── No\n",
      "├── 80\n",
      "├── ├── No\n",
      "├── 83\n",
      "├── ├── Yes\n",
      "├── 70\n",
      "├── ├── Yes\n",
      "├── 68\n",
      "├── ├── Yes\n",
      "├── 65\n",
      "├── ├── No\n",
      "├── 64\n",
      "├── ├── Yes\n",
      "├── 72\n",
      "├── ├── Outlook\n",
      "├── ├── ├── Sunny\n",
      "├── ├── ├── ├── No\n",
      "├── ├── ├── Overcast\n",
      "├── ├── ├── ├── Yes\n",
      "├── 69\n",
      "├── ├── Yes\n",
      "├── 75\n",
      "├── ├── Yes\n",
      "├── 81\n",
      "├── ├── Yes\n",
      "├── 71\n",
      "├── ├── No\n"
     ]
    }
   ],
   "source": [
    "decision_tree = build_tree_c4(df1, 'Decision')\n",
    "print(\"Decision Tree:\")\n",
    "print_tree(decision_tree)"
   ]
  },
  {
   "cell_type": "code",
   "execution_count": 7,
   "id": "66d992f7",
   "metadata": {},
   "outputs": [
    {
     "name": "stdout",
     "output_type": "stream",
     "text": [
      "Predicted Decision: Yes\n"
     ]
    }
   ],
   "source": [
    "new_sample = {'Outlook': 'Sunny', 'Temp.': 75, 'Humidity': 70, 'Wind': 'Strong'}\n",
    "result = classify_c4(new_sample, decision_tree)\n",
    "print(\"Predicted Decision:\", result)"
   ]
  },
  {
   "cell_type": "code",
   "execution_count": 8,
   "id": "34ca9118",
   "metadata": {},
   "outputs": [],
   "source": [
    "# 2. Write a python function program to demonstrate the working of the decision tree based CART algorithms\n",
    "# without using scikit-learn library. Use Q. No. 1 data set for building the decision tree and apply this knowledge\n",
    "# to classify a new sample.\n",
    "# The dataset has three attributes: Outlook (Sunny, Overcast, Rainy), Temperature, Humidity and Wind (Weak,\n",
    "# Strong). The target attribute is Play Tennis (Yes/No)."
   ]
  },
  {
   "cell_type": "code",
   "execution_count": 9,
   "id": "039fe3f1",
   "metadata": {},
   "outputs": [],
   "source": [
    "def gini_index(target_col):\n",
    "    counts = target_col.value_counts()\n",
    "    probabilities = counts / len(target_col)\n",
    "    return 1 - np.sum(probabilities ** 2)\n",
    "\n",
    "def information_gain_cart(data, split_attribute, target_attribute):\n",
    "    total_gini = gini_index(data[target_attribute])\n",
    "    weighted_gini = 0\n",
    "\n",
    "    for val, count in data[split_attribute].value_counts().items():\n",
    "        subset = data[data[split_attribute] == val]\n",
    "        weighted_gini += (count / len(data)) * gini_index(subset[target_attribute])\n",
    "\n",
    "    return total_gini - weighted_gini\n",
    "\n",
    "def best_split_cart(data, target_attribute):\n",
    "    gini_gains = {col: information_gain_cart(data, col, target_attribute) for col in data.columns if col != target_attribute}\n",
    "    return max(gini_gains, key=gini_gains.get)\n",
    "\n",
    "def build_tree_cart(data, target_attribute):\n",
    "    if len(np.unique(data[target_attribute])) == 1:\n",
    "        return np.unique(data[target_attribute])[0]\n",
    "    if len(data) == 0:\n",
    "        return None\n",
    "\n",
    "    best_attr = best_split_cart(data, target_attribute)\n",
    "    tree = {best_attr: {}}\n",
    "    \n",
    "    for val in data[best_attr].unique():\n",
    "        subset = data[data[best_attr] == val]\n",
    "        tree[best_attr][val] = build_tree_cart(subset, target_attribute)\n",
    "    \n",
    "    return tree\n",
    "\n",
    "def classify_cart(instance, tree):\n",
    "    if not isinstance(tree, dict):\n",
    "        return tree\n",
    "    \n",
    "    attribute = next(iter(tree))\n",
    "    value = instance[attribute]\n",
    "    \n",
    "    if value in tree[attribute]:\n",
    "        return classify_cart(instance, tree[attribute][value])\n",
    "    else:\n",
    "        return None"
   ]
  },
  {
   "cell_type": "code",
   "execution_count": 10,
   "id": "fccf9b86",
   "metadata": {},
   "outputs": [
    {
     "name": "stdout",
     "output_type": "stream",
     "text": [
      "Decision Tree:\n",
      "Temp.\n",
      "├── 85\n",
      "├── ├── No\n",
      "├── 80\n",
      "├── ├── No\n",
      "├── 83\n",
      "├── ├── Yes\n",
      "├── 70\n",
      "├── ├── Yes\n",
      "├── 68\n",
      "├── ├── Yes\n",
      "├── 65\n",
      "├── ├── No\n",
      "├── 64\n",
      "├── ├── Yes\n",
      "├── 72\n",
      "├── ├── Outlook\n",
      "├── ├── ├── Sunny\n",
      "├── ├── ├── ├── No\n",
      "├── ├── ├── Overcast\n",
      "├── ├── ├── ├── Yes\n",
      "├── 69\n",
      "├── ├── Yes\n",
      "├── 75\n",
      "├── ├── Yes\n",
      "├── 81\n",
      "├── ├── Yes\n",
      "├── 71\n",
      "├── ├── No\n"
     ]
    }
   ],
   "source": [
    "decision_tree = build_tree_cart(df1, 'Decision')\n",
    "print(\"Decision Tree:\")\n",
    "print_tree(decision_tree)"
   ]
  },
  {
   "cell_type": "code",
   "execution_count": 11,
   "id": "a85664f0",
   "metadata": {},
   "outputs": [
    {
     "name": "stdout",
     "output_type": "stream",
     "text": [
      "Predicted Decision: Yes\n"
     ]
    }
   ],
   "source": [
    "new_sample = {'Outlook': 'Sunny', 'Temp.': 75, 'Humidity': 70, 'Wind': 'Strong'}\n",
    "result = classify_cart(new_sample, decision_tree)\n",
    "print(\"Predicted Decision:\", result)"
   ]
  },
  {
   "cell_type": "code",
   "execution_count": 12,
   "id": "15f99fdc",
   "metadata": {},
   "outputs": [],
   "source": [
    "# Write a python function program to demonstrate the working of the decision tree based C4.5 and CART\n",
    "# algorithms without and with using scikit-learn library. Using the following dataset, apply aforementioned\n",
    "# algorithms. The attributes are Income (Low, Medium, High) and Credit (Good, Bad), and the target is Loan\n",
    "# Approved (Yes/No)."
   ]
  },
  {
   "cell_type": "code",
   "execution_count": 13,
   "id": "4d6cec43",
   "metadata": {},
   "outputs": [
    {
     "data": {
      "text/html": [
       "<div>\n",
       "<style scoped>\n",
       "    .dataframe tbody tr th:only-of-type {\n",
       "        vertical-align: middle;\n",
       "    }\n",
       "\n",
       "    .dataframe tbody tr th {\n",
       "        vertical-align: top;\n",
       "    }\n",
       "\n",
       "    .dataframe thead th {\n",
       "        text-align: right;\n",
       "    }\n",
       "</style>\n",
       "<table border=\"1\" class=\"dataframe\">\n",
       "  <thead>\n",
       "    <tr style=\"text-align: right;\">\n",
       "      <th></th>\n",
       "      <th>Income</th>\n",
       "      <th>Credit</th>\n",
       "      <th>Loan</th>\n",
       "    </tr>\n",
       "  </thead>\n",
       "  <tbody>\n",
       "    <tr>\n",
       "      <th>0</th>\n",
       "      <td>Low</td>\n",
       "      <td>Good</td>\n",
       "      <td>Yes</td>\n",
       "    </tr>\n",
       "    <tr>\n",
       "      <th>1</th>\n",
       "      <td>Low</td>\n",
       "      <td>Bad</td>\n",
       "      <td>No</td>\n",
       "    </tr>\n",
       "    <tr>\n",
       "      <th>2</th>\n",
       "      <td>Medium</td>\n",
       "      <td>Good</td>\n",
       "      <td>Yes</td>\n",
       "    </tr>\n",
       "    <tr>\n",
       "      <th>3</th>\n",
       "      <td>Medium</td>\n",
       "      <td>Bad</td>\n",
       "      <td>Yes</td>\n",
       "    </tr>\n",
       "    <tr>\n",
       "      <th>4</th>\n",
       "      <td>High</td>\n",
       "      <td>Good</td>\n",
       "      <td>Yes</td>\n",
       "    </tr>\n",
       "    <tr>\n",
       "      <th>5</th>\n",
       "      <td>High</td>\n",
       "      <td>Bad</td>\n",
       "      <td>No</td>\n",
       "    </tr>\n",
       "  </tbody>\n",
       "</table>\n",
       "</div>"
      ],
      "text/plain": [
       "   Income Credit Loan\n",
       "0     Low   Good  Yes\n",
       "1     Low    Bad   No\n",
       "2  Medium   Good  Yes\n",
       "3  Medium    Bad  Yes\n",
       "4    High   Good  Yes\n",
       "5    High    Bad   No"
      ]
     },
     "execution_count": 13,
     "metadata": {},
     "output_type": "execute_result"
    }
   ],
   "source": [
    "df2 = pd.read_csv('q2.csv')\n",
    "df2"
   ]
  },
  {
   "cell_type": "code",
   "execution_count": 14,
   "id": "5cc8bfab",
   "metadata": {},
   "outputs": [],
   "source": [
    "new_sample = {'Income': 'Medium', 'Credit': 'Good'}"
   ]
  },
  {
   "cell_type": "code",
   "execution_count": 15,
   "id": "839ea65c",
   "metadata": {},
   "outputs": [
    {
     "name": "stdout",
     "output_type": "stream",
     "text": [
      "C4.5 Decision Tree:\n",
      "Credit\n",
      "├── Good\n",
      "├── ├── Yes\n",
      "├── Bad\n",
      "├── ├── Income\n",
      "├── ├── ├── Low\n",
      "├── ├── ├── ├── No\n",
      "├── ├── ├── Medium\n",
      "├── ├── ├── ├── Yes\n",
      "├── ├── ├── High\n",
      "├── ├── ├── ├── No\n",
      "Prediction: Yes\n"
     ]
    }
   ],
   "source": [
    "decision_tree_c4 = build_tree_c4(df2, 'Loan')\n",
    "print(f\"C4.5 Decision Tree:\")\n",
    "print_tree(decision_tree_c4)\n",
    "print(f\"Prediction: {classify_c4(new_sample, decision_tree_c4)}\")"
   ]
  },
  {
   "cell_type": "code",
   "execution_count": 16,
   "id": "44ed04a2",
   "metadata": {},
   "outputs": [
    {
     "name": "stdout",
     "output_type": "stream",
     "text": [
      "CART Decision Tree:\n",
      "Credit\n",
      "├── Good\n",
      "├── ├── Yes\n",
      "├── Bad\n",
      "├── ├── Income\n",
      "├── ├── ├── Low\n",
      "├── ├── ├── ├── No\n",
      "├── ├── ├── Medium\n",
      "├── ├── ├── ├── Yes\n",
      "├── ├── ├── High\n",
      "├── ├── ├── ├── No\n",
      "Prediction: Yes\n"
     ]
    }
   ],
   "source": [
    "decision_tree_cart = build_tree_cart(df2, 'Loan')\n",
    "print(f\"CART Decision Tree:\")\n",
    "print_tree(decision_tree_cart)\n",
    "print(f\"Prediction: {classify_cart(new_sample, decision_tree_cart)}\")"
   ]
  },
  {
   "cell_type": "code",
   "execution_count": 17,
   "id": "e49a0cfd",
   "metadata": {},
   "outputs": [
    {
     "name": "stdout",
     "output_type": "stream",
     "text": [
      "C4.5 Prediction: Yes\n",
      "CART Prediction: Yes\n"
     ]
    },
    {
     "data": {
      "image/png": "[encoded data removed]",
      "text/plain": [
       "<Figure size 1200x600 with 2 Axes>"
      ]
     },
     "metadata": {},
     "output_type": "display_data"
    }
   ],
   "source": [
    "from sklearn.tree import DecisionTreeClassifier, plot_tree\n",
    "X = df2[['Income', 'Credit']]\n",
    "y = df2['Loan']\n",
    "X_encoded = pd.get_dummies(X, drop_first=True).astype(int)\n",
    "\n",
    "c45_model = DecisionTreeClassifier(criterion='entropy')\n",
    "c45_model.fit(X_encoded, y)\n",
    "\n",
    "new_sample = {'Income': 'Medium', 'Credit': 'Good'}\n",
    "new_sample_encoded = pd.DataFrame({\n",
    "    'Income_Low': [1 if new_sample['Income'] == 'Low' else 0],\n",
    "    'Income_Medium': [1 if new_sample['Income'] == 'Medium' else 0],\n",
    "    'Credit_Good': [1 if new_sample['Credit'] == 'Good' else 0]\n",
    "})\n",
    "\n",
    "c45_prediction = c45_model.predict(new_sample_encoded)\n",
    "print(\"C4.5 Prediction:\", c45_prediction[0])\n",
    "\n",
    "cart_model = DecisionTreeClassifier(criterion='gini')\n",
    "cart_model.fit(X_encoded, y)\n",
    "\n",
    "cart_prediction = cart_model.predict(new_sample_encoded)\n",
    "print(\"CART Prediction:\", cart_prediction[0])\n",
    "\n",
    "plt.figure(figsize=(12, 6))\n",
    "plt.subplot(1, 2, 1)\n",
    "plot_tree(c45_model, feature_names=X_encoded.columns, class_names=y.unique(), filled=True)\n",
    "plt.title(\"C4.5 Decision Tree\")\n",
    "\n",
    "plt.subplot(1, 2, 2)\n",
    "plot_tree(cart_model, feature_names=X_encoded.columns, class_names=y.unique(), filled=True)\n",
    "plt.title(\"CART Decision Tree\")\n",
    "\n",
    "plt.tight_layout()\n",
    "plt.show()"
   ]
  },
  {
   "cell_type": "code",
   "execution_count": null,
   "id": "c1e790b9",
   "metadata": {},
   "outputs": [],
   "source": []
  }
 ],
 "metadata": {
  "kernelspec": {
   "display_name": "Python 3 (ipykernel)",
   "language": "python",
   "name": "python3"
  },
  "language_info": {
   "codemirror_mode": {
    "name": "ipython",
    "version": 3
   },
   "file_extension": ".py",
   "mimetype": "text/x-python",
   "name": "python",
   "nbconvert_exporter": "python",
   "pygments_lexer": "ipython3",
   "version": "3.12.3"
  }
 },
 "nbformat": 4,
 "nbformat_minor": 5
}
